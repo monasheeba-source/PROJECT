{
 "cells": [
  {
   "cell_type": "code",
   "execution_count": 67,
   "metadata": {},
   "outputs": [],
   "source": [
    "# This Python 3 environment comes with many helpful analytics libraries installed\n",
    "# It is defined by the kaggle/python Docker image: https://github.com/kaggle/docker-python\n",
    "# For example, here's several helpful packages to load\n",
    "\n",
    "import numpy as np # linear algebra\n",
    "import pandas as pd # data processing, CSV file I/O (e.g. pd.read_csv)\n",
    "\n",
    "# Input data files are available in the read-only \"../input/\" directory\n",
    "# For example, running this (by clicking run or pressing Shift+Enter) will list all files under the input directory\n",
    "\n",
    "import os\n",
    "for dirname, _, filenames in os.walk('/kaggle/input'):\n",
    "    for filename in filenames:\n",
    "        print(os.path.join(dirname, filename))\n",
    "\n",
    "# You can write up to 20GB to the current directory (/kaggle/working/) that gets preserved as output when you create a version using \"Save & Run All\" \n",
    "# You can also write temporary files to /kaggle/temp/, but they won't be saved outside of the current session"
   ]
  },
  {
   "cell_type": "markdown",
   "metadata": {
    "colab": {
     "base_uri": "https://localhost:8080/"
    },
    "id": "pEt4N9inkt9T",
    "outputId": "65fd740b-be94-45d3-a57f-511a2015c699"
   },
   "source": [
    "pip install optuna"
   ]
  },
  {
   "cell_type": "markdown",
   "metadata": {
    "colab": {
     "base_uri": "https://localhost:8080/"
    },
    "id": "XD4K8rsOk5Hg",
    "outputId": "284533b8-fb86-4fdd-f25f-7f9fac2d8d80"
   },
   "source": [
    "pip install optuna-integration[lightgbm]"
   ]
  },
  {
   "cell_type": "markdown",
   "metadata": {
    "colab": {
     "base_uri": "https://localhost:8080/"
    },
    "id": "35jrMEwFlFLn",
    "outputId": "b116af1b-d64b-42cb-bb26-3eec2082380a"
   },
   "source": [
    "pip install category_encoders"
   ]
  },
  {
   "cell_type": "markdown",
   "metadata": {
    "colab": {
     "base_uri": "https://localhost:8080/"
    },
    "id": "AjgOaMMOlI6_",
    "outputId": "82f7c9bc-2d07-41aa-9d78-02e4cb0d4f05"
   },
   "source": [
    "pip install imbalanced-learn"
   ]
  },
  {
   "cell_type": "markdown",
   "metadata": {
    "colab": {
     "base_uri": "https://localhost:8080/"
    },
    "id": "d_wc5RbmmV1f",
    "outputId": "5a4fc823-ac9d-48d6-f717-f42953eb743f"
   },
   "source": [
    "pip install lightgbm --upgrade"
   ]
  },
  {
   "cell_type": "code",
   "execution_count": 73,
   "metadata": {
    "colab": {
     "base_uri": "https://localhost:8080/"
    },
    "id": "Ot2b2WWYgts-",
    "outputId": "96f4e9d4-b8b8-4318-e676-eb86b3a6eb7c"
   },
   "outputs": [],
   "source": [
    "# Import necessary libraries\n",
    "import os\n",
    "import pandas as pd\n",
    "import numpy as np\n",
    "import zipfile\n",
    "from sklearn.model_selection import StratifiedKFold\n",
    "from sklearn.preprocessing import StandardScaler\n",
    "from sklearn.metrics import roc_auc_score\n",
    "import lightgbm as lgb\n",
    "import optuna\n",
    "from optuna.integration import LightGBMPruningCallback\n",
    "import category_encoders as ce\n",
    "from imblearn.over_sampling import SMOTE\n",
    "\n",
    "# Compare Algorithms\n",
    "import pandas\n",
    "import matplotlib.pyplot as plt\n",
    "from sklearn import model_selection\n",
    "from sklearn.linear_model import LogisticRegression\n",
    "from sklearn.tree import DecisionTreeClassifier\n",
    "from sklearn.neighbors import KNeighborsClassifier\n",
    "from sklearn.discriminant_analysis import LinearDiscriminantAnalysis\n",
    "from sklearn.naive_bayes import GaussianNB\n",
    "import xgboost as xgb\n",
    "from sklearn.ensemble import RandomForestClassifier, GradientBoostingClassifier,AdaBoostClassifier\n",
    "from xgboost import XGBClassifier\n",
    "from sklearn.ensemble import ExtraTreesClassifier\n",
    "from sklearn.ensemble import RandomForestClassifier\n",
    "from catboost import CatBoostClassifier, Pool\n",
    "from lightgbm import LGBMClassifier\n",
    "from sklearn.svm import SVC\n",
    "\n",
    "import joblib\n"
   ]
  },
  {
   "cell_type": "markdown",
   "metadata": {},
   "source": [
    "df_train = pd.read_csv(\"/kaggle/input/playground-series-s4e10/train.csv\")\n",
    "df_test = pd.read_csv(\"/kaggle/input/playground-series-s4e10/test.csv\")"
   ]
  },
  {
   "cell_type": "markdown",
   "metadata": {},
   "source": [
    "# Import and Load the Dataset"
   ]
  },
  {
   "cell_type": "markdown",
   "metadata": {},
   "source": [
    "# Extract the uploaded zip file\n",
    "#zip_file_path = 'playground-series-s4e10.zip'\n",
    "#extract_dir = 'playground-series-s4e10/'\n",
    "\n",
    "#zip_file_path = '../Data/playground-series-s4e10.zip'\n",
    "extract_dir = '../Data/playground-series-s4e10'"
   ]
  },
  {
   "cell_type": "markdown",
   "metadata": {},
   "source": [
    "with zipfile.ZipFile(zip_file_path, 'r') as zip_ref:\n",
    "    zip_ref.extractall(extract_dir)"
   ]
  },
  {
   "cell_type": "code",
   "execution_count": 78,
   "metadata": {},
   "outputs": [],
   "source": [
    "# Load the datasets\n",
    "df_train = pd.read_csv('../PROJECT/Data/train.csv')\n",
    "df_test = pd.read_csv('../PROJECT/Data/test.csv')\n",
    "#sample_submission_df = pd.read_csv(os.path.join(extract_dir, 'sample_submission.csv'))"
   ]
  },
  {
   "cell_type": "code",
   "execution_count": 79,
   "metadata": {},
   "outputs": [
    {
     "data": {
      "text/html": [
       "<div>\n",
       "<style scoped>\n",
       "    .dataframe tbody tr th:only-of-type {\n",
       "        vertical-align: middle;\n",
       "    }\n",
       "\n",
       "    .dataframe tbody tr th {\n",
       "        vertical-align: top;\n",
       "    }\n",
       "\n",
       "    .dataframe thead th {\n",
       "        text-align: right;\n",
       "    }\n",
       "</style>\n",
       "<table border=\"1\" class=\"dataframe\">\n",
       "  <thead>\n",
       "    <tr style=\"text-align: right;\">\n",
       "      <th></th>\n",
       "      <th>id</th>\n",
       "      <th>person_age</th>\n",
       "      <th>person_income</th>\n",
       "      <th>person_home_ownership</th>\n",
       "      <th>person_emp_length</th>\n",
       "      <th>loan_intent</th>\n",
       "      <th>loan_grade</th>\n",
       "      <th>loan_amnt</th>\n",
       "      <th>loan_int_rate</th>\n",
       "      <th>loan_percent_income</th>\n",
       "      <th>cb_person_default_on_file</th>\n",
       "      <th>cb_person_cred_hist_length</th>\n",
       "      <th>loan_status</th>\n",
       "    </tr>\n",
       "  </thead>\n",
       "  <tbody>\n",
       "    <tr>\n",
       "      <th>0</th>\n",
       "      <td>0</td>\n",
       "      <td>37</td>\n",
       "      <td>35000</td>\n",
       "      <td>RENT</td>\n",
       "      <td>0.0</td>\n",
       "      <td>EDUCATION</td>\n",
       "      <td>B</td>\n",
       "      <td>6000</td>\n",
       "      <td>11.49</td>\n",
       "      <td>0.17</td>\n",
       "      <td>N</td>\n",
       "      <td>14</td>\n",
       "      <td>0</td>\n",
       "    </tr>\n",
       "    <tr>\n",
       "      <th>1</th>\n",
       "      <td>1</td>\n",
       "      <td>22</td>\n",
       "      <td>56000</td>\n",
       "      <td>OWN</td>\n",
       "      <td>6.0</td>\n",
       "      <td>MEDICAL</td>\n",
       "      <td>C</td>\n",
       "      <td>4000</td>\n",
       "      <td>13.35</td>\n",
       "      <td>0.07</td>\n",
       "      <td>N</td>\n",
       "      <td>2</td>\n",
       "      <td>0</td>\n",
       "    </tr>\n",
       "    <tr>\n",
       "      <th>2</th>\n",
       "      <td>2</td>\n",
       "      <td>29</td>\n",
       "      <td>28800</td>\n",
       "      <td>OWN</td>\n",
       "      <td>8.0</td>\n",
       "      <td>PERSONAL</td>\n",
       "      <td>A</td>\n",
       "      <td>6000</td>\n",
       "      <td>8.90</td>\n",
       "      <td>0.21</td>\n",
       "      <td>N</td>\n",
       "      <td>10</td>\n",
       "      <td>0</td>\n",
       "    </tr>\n",
       "    <tr>\n",
       "      <th>3</th>\n",
       "      <td>3</td>\n",
       "      <td>30</td>\n",
       "      <td>70000</td>\n",
       "      <td>RENT</td>\n",
       "      <td>14.0</td>\n",
       "      <td>VENTURE</td>\n",
       "      <td>B</td>\n",
       "      <td>12000</td>\n",
       "      <td>11.11</td>\n",
       "      <td>0.17</td>\n",
       "      <td>N</td>\n",
       "      <td>5</td>\n",
       "      <td>0</td>\n",
       "    </tr>\n",
       "    <tr>\n",
       "      <th>4</th>\n",
       "      <td>4</td>\n",
       "      <td>22</td>\n",
       "      <td>60000</td>\n",
       "      <td>RENT</td>\n",
       "      <td>2.0</td>\n",
       "      <td>MEDICAL</td>\n",
       "      <td>A</td>\n",
       "      <td>6000</td>\n",
       "      <td>6.92</td>\n",
       "      <td>0.10</td>\n",
       "      <td>N</td>\n",
       "      <td>3</td>\n",
       "      <td>0</td>\n",
       "    </tr>\n",
       "  </tbody>\n",
       "</table>\n",
       "</div>"
      ],
      "text/plain": [
       "   id  person_age  person_income person_home_ownership  person_emp_length  \\\n",
       "0   0          37          35000                  RENT                0.0   \n",
       "1   1          22          56000                   OWN                6.0   \n",
       "2   2          29          28800                   OWN                8.0   \n",
       "3   3          30          70000                  RENT               14.0   \n",
       "4   4          22          60000                  RENT                2.0   \n",
       "\n",
       "  loan_intent loan_grade  loan_amnt  loan_int_rate  loan_percent_income  \\\n",
       "0   EDUCATION          B       6000          11.49                 0.17   \n",
       "1     MEDICAL          C       4000          13.35                 0.07   \n",
       "2    PERSONAL          A       6000           8.90                 0.21   \n",
       "3     VENTURE          B      12000          11.11                 0.17   \n",
       "4     MEDICAL          A       6000           6.92                 0.10   \n",
       "\n",
       "  cb_person_default_on_file  cb_person_cred_hist_length  loan_status  \n",
       "0                         N                          14            0  \n",
       "1                         N                           2            0  \n",
       "2                         N                          10            0  \n",
       "3                         N                           5            0  \n",
       "4                         N                           3            0  "
      ]
     },
     "execution_count": 79,
     "metadata": {},
     "output_type": "execute_result"
    }
   ],
   "source": [
    "df_train.head()"
   ]
  },
  {
   "cell_type": "code",
   "execution_count": 80,
   "metadata": {},
   "outputs": [
    {
     "data": {
      "text/html": [
       "<div>\n",
       "<style scoped>\n",
       "    .dataframe tbody tr th:only-of-type {\n",
       "        vertical-align: middle;\n",
       "    }\n",
       "\n",
       "    .dataframe tbody tr th {\n",
       "        vertical-align: top;\n",
       "    }\n",
       "\n",
       "    .dataframe thead th {\n",
       "        text-align: right;\n",
       "    }\n",
       "</style>\n",
       "<table border=\"1\" class=\"dataframe\">\n",
       "  <thead>\n",
       "    <tr style=\"text-align: right;\">\n",
       "      <th></th>\n",
       "      <th>id</th>\n",
       "      <th>person_age</th>\n",
       "      <th>person_income</th>\n",
       "      <th>person_home_ownership</th>\n",
       "      <th>person_emp_length</th>\n",
       "      <th>loan_intent</th>\n",
       "      <th>loan_grade</th>\n",
       "      <th>loan_amnt</th>\n",
       "      <th>loan_int_rate</th>\n",
       "      <th>loan_percent_income</th>\n",
       "      <th>cb_person_default_on_file</th>\n",
       "      <th>cb_person_cred_hist_length</th>\n",
       "    </tr>\n",
       "  </thead>\n",
       "  <tbody>\n",
       "    <tr>\n",
       "      <th>0</th>\n",
       "      <td>58645</td>\n",
       "      <td>23</td>\n",
       "      <td>69000</td>\n",
       "      <td>RENT</td>\n",
       "      <td>3.0</td>\n",
       "      <td>HOMEIMPROVEMENT</td>\n",
       "      <td>F</td>\n",
       "      <td>25000</td>\n",
       "      <td>15.76</td>\n",
       "      <td>0.36</td>\n",
       "      <td>N</td>\n",
       "      <td>2</td>\n",
       "    </tr>\n",
       "    <tr>\n",
       "      <th>1</th>\n",
       "      <td>58646</td>\n",
       "      <td>26</td>\n",
       "      <td>96000</td>\n",
       "      <td>MORTGAGE</td>\n",
       "      <td>6.0</td>\n",
       "      <td>PERSONAL</td>\n",
       "      <td>C</td>\n",
       "      <td>10000</td>\n",
       "      <td>12.68</td>\n",
       "      <td>0.10</td>\n",
       "      <td>Y</td>\n",
       "      <td>4</td>\n",
       "    </tr>\n",
       "    <tr>\n",
       "      <th>2</th>\n",
       "      <td>58647</td>\n",
       "      <td>26</td>\n",
       "      <td>30000</td>\n",
       "      <td>RENT</td>\n",
       "      <td>5.0</td>\n",
       "      <td>VENTURE</td>\n",
       "      <td>E</td>\n",
       "      <td>4000</td>\n",
       "      <td>17.19</td>\n",
       "      <td>0.13</td>\n",
       "      <td>Y</td>\n",
       "      <td>2</td>\n",
       "    </tr>\n",
       "    <tr>\n",
       "      <th>3</th>\n",
       "      <td>58648</td>\n",
       "      <td>33</td>\n",
       "      <td>50000</td>\n",
       "      <td>RENT</td>\n",
       "      <td>4.0</td>\n",
       "      <td>DEBTCONSOLIDATION</td>\n",
       "      <td>A</td>\n",
       "      <td>7000</td>\n",
       "      <td>8.90</td>\n",
       "      <td>0.14</td>\n",
       "      <td>N</td>\n",
       "      <td>7</td>\n",
       "    </tr>\n",
       "    <tr>\n",
       "      <th>4</th>\n",
       "      <td>58649</td>\n",
       "      <td>26</td>\n",
       "      <td>102000</td>\n",
       "      <td>MORTGAGE</td>\n",
       "      <td>8.0</td>\n",
       "      <td>HOMEIMPROVEMENT</td>\n",
       "      <td>D</td>\n",
       "      <td>15000</td>\n",
       "      <td>16.32</td>\n",
       "      <td>0.15</td>\n",
       "      <td>Y</td>\n",
       "      <td>4</td>\n",
       "    </tr>\n",
       "  </tbody>\n",
       "</table>\n",
       "</div>"
      ],
      "text/plain": [
       "      id  person_age  person_income person_home_ownership  person_emp_length  \\\n",
       "0  58645          23          69000                  RENT                3.0   \n",
       "1  58646          26          96000              MORTGAGE                6.0   \n",
       "2  58647          26          30000                  RENT                5.0   \n",
       "3  58648          33          50000                  RENT                4.0   \n",
       "4  58649          26         102000              MORTGAGE                8.0   \n",
       "\n",
       "         loan_intent loan_grade  loan_amnt  loan_int_rate  \\\n",
       "0    HOMEIMPROVEMENT          F      25000          15.76   \n",
       "1           PERSONAL          C      10000          12.68   \n",
       "2            VENTURE          E       4000          17.19   \n",
       "3  DEBTCONSOLIDATION          A       7000           8.90   \n",
       "4    HOMEIMPROVEMENT          D      15000          16.32   \n",
       "\n",
       "   loan_percent_income cb_person_default_on_file  cb_person_cred_hist_length  \n",
       "0                 0.36                         N                           2  \n",
       "1                 0.10                         Y                           4  \n",
       "2                 0.13                         Y                           2  \n",
       "3                 0.14                         N                           7  \n",
       "4                 0.15                         Y                           4  "
      ]
     },
     "execution_count": 80,
     "metadata": {},
     "output_type": "execute_result"
    }
   ],
   "source": [
    "df_test.head()"
   ]
  },
  {
   "cell_type": "markdown",
   "metadata": {},
   "source": [
    "# Inspect the data"
   ]
  },
  {
   "cell_type": "code",
   "execution_count": 82,
   "metadata": {},
   "outputs": [
    {
     "name": "stdout",
     "output_type": "stream",
     "text": [
      "Training Data Shape : (58645, 13)\n",
      "Testing Data Shape : (39098, 12)\n"
     ]
    }
   ],
   "source": [
    "#Checking the dimensions of the data\n",
    "print(\"Training Data Shape :\", df_train.shape)\n",
    "print(\"Testing Data Shape :\", df_test.shape)"
   ]
  },
  {
   "cell_type": "code",
   "execution_count": 83,
   "metadata": {},
   "outputs": [
    {
     "name": "stdout",
     "output_type": "stream",
     "text": [
      "<class 'pandas.core.frame.DataFrame'>\n",
      "RangeIndex: 58645 entries, 0 to 58644\n",
      "Data columns (total 13 columns):\n",
      " #   Column                      Non-Null Count  Dtype  \n",
      "---  ------                      --------------  -----  \n",
      " 0   id                          58645 non-null  int64  \n",
      " 1   person_age                  58645 non-null  int64  \n",
      " 2   person_income               58645 non-null  int64  \n",
      " 3   person_home_ownership       58645 non-null  object \n",
      " 4   person_emp_length           58645 non-null  float64\n",
      " 5   loan_intent                 58645 non-null  object \n",
      " 6   loan_grade                  58645 non-null  object \n",
      " 7   loan_amnt                   58645 non-null  int64  \n",
      " 8   loan_int_rate               58645 non-null  float64\n",
      " 9   loan_percent_income         58645 non-null  float64\n",
      " 10  cb_person_default_on_file   58645 non-null  object \n",
      " 11  cb_person_cred_hist_length  58645 non-null  int64  \n",
      " 12  loan_status                 58645 non-null  int64  \n",
      "dtypes: float64(3), int64(6), object(4)\n",
      "memory usage: 5.8+ MB\n"
     ]
    }
   ],
   "source": [
    "#Knowing the types of feature variables \n",
    "df_train.info()"
   ]
  },
  {
   "cell_type": "markdown",
   "metadata": {},
   "source": [
    "Column Types:\n",
    "\n",
    "Integer Columns (int64): 6 columns\n",
    "Float Columns (float64): 3 columns\n",
    "Categorical Columns (object): 4 columns"
   ]
  },
  {
   "cell_type": "code",
   "execution_count": 85,
   "metadata": {},
   "outputs": [
    {
     "name": "stdout",
     "output_type": "stream",
     "text": [
      "<class 'pandas.core.frame.DataFrame'>\n",
      "RangeIndex: 39098 entries, 0 to 39097\n",
      "Data columns (total 12 columns):\n",
      " #   Column                      Non-Null Count  Dtype  \n",
      "---  ------                      --------------  -----  \n",
      " 0   id                          39098 non-null  int64  \n",
      " 1   person_age                  39098 non-null  int64  \n",
      " 2   person_income               39098 non-null  int64  \n",
      " 3   person_home_ownership       39098 non-null  object \n",
      " 4   person_emp_length           39098 non-null  float64\n",
      " 5   loan_intent                 39098 non-null  object \n",
      " 6   loan_grade                  39098 non-null  object \n",
      " 7   loan_amnt                   39098 non-null  int64  \n",
      " 8   loan_int_rate               39098 non-null  float64\n",
      " 9   loan_percent_income         39098 non-null  float64\n",
      " 10  cb_person_default_on_file   39098 non-null  object \n",
      " 11  cb_person_cred_hist_length  39098 non-null  int64  \n",
      "dtypes: float64(3), int64(5), object(4)\n",
      "memory usage: 3.6+ MB\n"
     ]
    }
   ],
   "source": [
    "df_test.info()"
   ]
  },
  {
   "cell_type": "code",
   "execution_count": 86,
   "metadata": {},
   "outputs": [],
   "source": [
    "# Reset index to 'id' for both datasets\n",
    "df_train.set_index('id', inplace=True)\n",
    "df_test.set_index('id', inplace=True)"
   ]
  },
  {
   "cell_type": "code",
   "execution_count": 87,
   "metadata": {},
   "outputs": [
    {
     "data": {
      "text/html": [
       "<div>\n",
       "<style scoped>\n",
       "    .dataframe tbody tr th:only-of-type {\n",
       "        vertical-align: middle;\n",
       "    }\n",
       "\n",
       "    .dataframe tbody tr th {\n",
       "        vertical-align: top;\n",
       "    }\n",
       "\n",
       "    .dataframe thead th {\n",
       "        text-align: right;\n",
       "    }\n",
       "</style>\n",
       "<table border=\"1\" class=\"dataframe\">\n",
       "  <thead>\n",
       "    <tr style=\"text-align: right;\">\n",
       "      <th></th>\n",
       "      <th>person_age</th>\n",
       "      <th>person_income</th>\n",
       "      <th>person_emp_length</th>\n",
       "      <th>loan_amnt</th>\n",
       "      <th>loan_int_rate</th>\n",
       "      <th>loan_percent_income</th>\n",
       "      <th>cb_person_cred_hist_length</th>\n",
       "      <th>loan_status</th>\n",
       "    </tr>\n",
       "  </thead>\n",
       "  <tbody>\n",
       "    <tr>\n",
       "      <th>count</th>\n",
       "      <td>58645.000000</td>\n",
       "      <td>5.864500e+04</td>\n",
       "      <td>58645.000000</td>\n",
       "      <td>58645.000000</td>\n",
       "      <td>58645.000000</td>\n",
       "      <td>58645.000000</td>\n",
       "      <td>58645.000000</td>\n",
       "      <td>58645.000000</td>\n",
       "    </tr>\n",
       "    <tr>\n",
       "      <th>mean</th>\n",
       "      <td>27.550857</td>\n",
       "      <td>6.404617e+04</td>\n",
       "      <td>4.701015</td>\n",
       "      <td>9217.556518</td>\n",
       "      <td>10.677874</td>\n",
       "      <td>0.159238</td>\n",
       "      <td>5.813556</td>\n",
       "      <td>0.142382</td>\n",
       "    </tr>\n",
       "    <tr>\n",
       "      <th>std</th>\n",
       "      <td>6.033216</td>\n",
       "      <td>3.793111e+04</td>\n",
       "      <td>3.959784</td>\n",
       "      <td>5563.807384</td>\n",
       "      <td>3.034697</td>\n",
       "      <td>0.091692</td>\n",
       "      <td>4.029196</td>\n",
       "      <td>0.349445</td>\n",
       "    </tr>\n",
       "    <tr>\n",
       "      <th>min</th>\n",
       "      <td>20.000000</td>\n",
       "      <td>4.200000e+03</td>\n",
       "      <td>0.000000</td>\n",
       "      <td>500.000000</td>\n",
       "      <td>5.420000</td>\n",
       "      <td>0.000000</td>\n",
       "      <td>2.000000</td>\n",
       "      <td>0.000000</td>\n",
       "    </tr>\n",
       "    <tr>\n",
       "      <th>25%</th>\n",
       "      <td>23.000000</td>\n",
       "      <td>4.200000e+04</td>\n",
       "      <td>2.000000</td>\n",
       "      <td>5000.000000</td>\n",
       "      <td>7.880000</td>\n",
       "      <td>0.090000</td>\n",
       "      <td>3.000000</td>\n",
       "      <td>0.000000</td>\n",
       "    </tr>\n",
       "    <tr>\n",
       "      <th>50%</th>\n",
       "      <td>26.000000</td>\n",
       "      <td>5.800000e+04</td>\n",
       "      <td>4.000000</td>\n",
       "      <td>8000.000000</td>\n",
       "      <td>10.750000</td>\n",
       "      <td>0.140000</td>\n",
       "      <td>4.000000</td>\n",
       "      <td>0.000000</td>\n",
       "    </tr>\n",
       "    <tr>\n",
       "      <th>75%</th>\n",
       "      <td>30.000000</td>\n",
       "      <td>7.560000e+04</td>\n",
       "      <td>7.000000</td>\n",
       "      <td>12000.000000</td>\n",
       "      <td>12.990000</td>\n",
       "      <td>0.210000</td>\n",
       "      <td>8.000000</td>\n",
       "      <td>0.000000</td>\n",
       "    </tr>\n",
       "    <tr>\n",
       "      <th>max</th>\n",
       "      <td>123.000000</td>\n",
       "      <td>1.900000e+06</td>\n",
       "      <td>123.000000</td>\n",
       "      <td>35000.000000</td>\n",
       "      <td>23.220000</td>\n",
       "      <td>0.830000</td>\n",
       "      <td>30.000000</td>\n",
       "      <td>1.000000</td>\n",
       "    </tr>\n",
       "  </tbody>\n",
       "</table>\n",
       "</div>"
      ],
      "text/plain": [
       "         person_age  person_income  person_emp_length     loan_amnt  \\\n",
       "count  58645.000000   5.864500e+04       58645.000000  58645.000000   \n",
       "mean      27.550857   6.404617e+04           4.701015   9217.556518   \n",
       "std        6.033216   3.793111e+04           3.959784   5563.807384   \n",
       "min       20.000000   4.200000e+03           0.000000    500.000000   \n",
       "25%       23.000000   4.200000e+04           2.000000   5000.000000   \n",
       "50%       26.000000   5.800000e+04           4.000000   8000.000000   \n",
       "75%       30.000000   7.560000e+04           7.000000  12000.000000   \n",
       "max      123.000000   1.900000e+06         123.000000  35000.000000   \n",
       "\n",
       "       loan_int_rate  loan_percent_income  cb_person_cred_hist_length  \\\n",
       "count   58645.000000         58645.000000                58645.000000   \n",
       "mean       10.677874             0.159238                    5.813556   \n",
       "std         3.034697             0.091692                    4.029196   \n",
       "min         5.420000             0.000000                    2.000000   \n",
       "25%         7.880000             0.090000                    3.000000   \n",
       "50%        10.750000             0.140000                    4.000000   \n",
       "75%        12.990000             0.210000                    8.000000   \n",
       "max        23.220000             0.830000                   30.000000   \n",
       "\n",
       "        loan_status  \n",
       "count  58645.000000  \n",
       "mean       0.142382  \n",
       "std        0.349445  \n",
       "min        0.000000  \n",
       "25%        0.000000  \n",
       "50%        0.000000  \n",
       "75%        0.000000  \n",
       "max        1.000000  "
      ]
     },
     "execution_count": 87,
     "metadata": {},
     "output_type": "execute_result"
    }
   ],
   "source": [
    "df_train.describe()"
   ]
  },
  {
   "cell_type": "markdown",
   "metadata": {},
   "source": [
    "Insights:\n",
    "Outliers and Data Quality:\n",
    "\n",
    "person_age (123 years) and person_emp_length (123 years) have unrealistic values, requiring data cleansing or imputation.\n",
    "Extreme values in person_income and loan_percent_income may influence model training and require scaling or clipping.\n",
    "\n",
    "Target Class Imbalance:\n",
    "\n",
    "Loan approvals are significantly fewer than rejections, which requires handling during model training (e.g., using oversampling or class weights).\n",
    "Feature Distributions:\n",
    "\n",
    "Income and loan amount distributions are skewed, suggesting the need for log transformation or scaling.\n",
    "Loan interest rates and credit history lengths appear reasonably distributed.\n",
    "Economic Feasibility:\n",
    "\n",
    "Loans consuming a high proportion of income (e.g., >50%) are rare but may indicate high financial risk."
   ]
  },
  {
   "cell_type": "code",
   "execution_count": 89,
   "metadata": {},
   "outputs": [
    {
     "data": {
      "text/html": [
       "<div>\n",
       "<style scoped>\n",
       "    .dataframe tbody tr th:only-of-type {\n",
       "        vertical-align: middle;\n",
       "    }\n",
       "\n",
       "    .dataframe tbody tr th {\n",
       "        vertical-align: top;\n",
       "    }\n",
       "\n",
       "    .dataframe thead th {\n",
       "        text-align: right;\n",
       "    }\n",
       "</style>\n",
       "<table border=\"1\" class=\"dataframe\">\n",
       "  <thead>\n",
       "    <tr style=\"text-align: right;\">\n",
       "      <th></th>\n",
       "      <th>person_age</th>\n",
       "      <th>person_income</th>\n",
       "      <th>person_emp_length</th>\n",
       "      <th>loan_amnt</th>\n",
       "      <th>loan_int_rate</th>\n",
       "      <th>loan_percent_income</th>\n",
       "      <th>cb_person_cred_hist_length</th>\n",
       "    </tr>\n",
       "  </thead>\n",
       "  <tbody>\n",
       "    <tr>\n",
       "      <th>count</th>\n",
       "      <td>39098.000000</td>\n",
       "      <td>3.909800e+04</td>\n",
       "      <td>39098.000000</td>\n",
       "      <td>39098.000000</td>\n",
       "      <td>39098.000000</td>\n",
       "      <td>39098.000000</td>\n",
       "      <td>39098.000000</td>\n",
       "    </tr>\n",
       "    <tr>\n",
       "      <th>mean</th>\n",
       "      <td>27.566781</td>\n",
       "      <td>6.406046e+04</td>\n",
       "      <td>4.687068</td>\n",
       "      <td>9251.466188</td>\n",
       "      <td>10.661216</td>\n",
       "      <td>0.159573</td>\n",
       "      <td>5.830707</td>\n",
       "    </tr>\n",
       "    <tr>\n",
       "      <th>std</th>\n",
       "      <td>6.032761</td>\n",
       "      <td>3.795583e+04</td>\n",
       "      <td>3.868395</td>\n",
       "      <td>5576.254680</td>\n",
       "      <td>3.020220</td>\n",
       "      <td>0.091633</td>\n",
       "      <td>4.072157</td>\n",
       "    </tr>\n",
       "    <tr>\n",
       "      <th>min</th>\n",
       "      <td>20.000000</td>\n",
       "      <td>4.000000e+03</td>\n",
       "      <td>0.000000</td>\n",
       "      <td>700.000000</td>\n",
       "      <td>5.420000</td>\n",
       "      <td>0.000000</td>\n",
       "      <td>2.000000</td>\n",
       "    </tr>\n",
       "    <tr>\n",
       "      <th>25%</th>\n",
       "      <td>23.000000</td>\n",
       "      <td>4.200000e+04</td>\n",
       "      <td>2.000000</td>\n",
       "      <td>5000.000000</td>\n",
       "      <td>7.880000</td>\n",
       "      <td>0.090000</td>\n",
       "      <td>3.000000</td>\n",
       "    </tr>\n",
       "    <tr>\n",
       "      <th>50%</th>\n",
       "      <td>26.000000</td>\n",
       "      <td>5.800000e+04</td>\n",
       "      <td>4.000000</td>\n",
       "      <td>8000.000000</td>\n",
       "      <td>10.750000</td>\n",
       "      <td>0.140000</td>\n",
       "      <td>4.000000</td>\n",
       "    </tr>\n",
       "    <tr>\n",
       "      <th>75%</th>\n",
       "      <td>30.000000</td>\n",
       "      <td>7.588500e+04</td>\n",
       "      <td>7.000000</td>\n",
       "      <td>12000.000000</td>\n",
       "      <td>12.990000</td>\n",
       "      <td>0.210000</td>\n",
       "      <td>8.000000</td>\n",
       "    </tr>\n",
       "    <tr>\n",
       "      <th>max</th>\n",
       "      <td>94.000000</td>\n",
       "      <td>1.900000e+06</td>\n",
       "      <td>42.000000</td>\n",
       "      <td>35000.000000</td>\n",
       "      <td>22.110000</td>\n",
       "      <td>0.730000</td>\n",
       "      <td>30.000000</td>\n",
       "    </tr>\n",
       "  </tbody>\n",
       "</table>\n",
       "</div>"
      ],
      "text/plain": [
       "         person_age  person_income  person_emp_length     loan_amnt  \\\n",
       "count  39098.000000   3.909800e+04       39098.000000  39098.000000   \n",
       "mean      27.566781   6.406046e+04           4.687068   9251.466188   \n",
       "std        6.032761   3.795583e+04           3.868395   5576.254680   \n",
       "min       20.000000   4.000000e+03           0.000000    700.000000   \n",
       "25%       23.000000   4.200000e+04           2.000000   5000.000000   \n",
       "50%       26.000000   5.800000e+04           4.000000   8000.000000   \n",
       "75%       30.000000   7.588500e+04           7.000000  12000.000000   \n",
       "max       94.000000   1.900000e+06          42.000000  35000.000000   \n",
       "\n",
       "       loan_int_rate  loan_percent_income  cb_person_cred_hist_length  \n",
       "count   39098.000000         39098.000000                39098.000000  \n",
       "mean       10.661216             0.159573                    5.830707  \n",
       "std         3.020220             0.091633                    4.072157  \n",
       "min         5.420000             0.000000                    2.000000  \n",
       "25%         7.880000             0.090000                    3.000000  \n",
       "50%        10.750000             0.140000                    4.000000  \n",
       "75%        12.990000             0.210000                    8.000000  \n",
       "max        22.110000             0.730000                   30.000000  "
      ]
     },
     "execution_count": 89,
     "metadata": {},
     "output_type": "execute_result"
    }
   ],
   "source": [
    "df_test.describe()"
   ]
  },
  {
   "cell_type": "code",
   "execution_count": 90,
   "metadata": {},
   "outputs": [
    {
     "data": {
      "text/html": [
       "<div>\n",
       "<style scoped>\n",
       "    .dataframe tbody tr th:only-of-type {\n",
       "        vertical-align: middle;\n",
       "    }\n",
       "\n",
       "    .dataframe tbody tr th {\n",
       "        vertical-align: top;\n",
       "    }\n",
       "\n",
       "    .dataframe thead th {\n",
       "        text-align: right;\n",
       "    }\n",
       "</style>\n",
       "<table border=\"1\" class=\"dataframe\">\n",
       "  <thead>\n",
       "    <tr style=\"text-align: right;\">\n",
       "      <th></th>\n",
       "      <th>count</th>\n",
       "      <th>unique</th>\n",
       "      <th>top</th>\n",
       "      <th>freq</th>\n",
       "    </tr>\n",
       "  </thead>\n",
       "  <tbody>\n",
       "    <tr>\n",
       "      <th>person_home_ownership</th>\n",
       "      <td>58645</td>\n",
       "      <td>4</td>\n",
       "      <td>RENT</td>\n",
       "      <td>30594</td>\n",
       "    </tr>\n",
       "    <tr>\n",
       "      <th>loan_intent</th>\n",
       "      <td>58645</td>\n",
       "      <td>6</td>\n",
       "      <td>EDUCATION</td>\n",
       "      <td>12271</td>\n",
       "    </tr>\n",
       "    <tr>\n",
       "      <th>loan_grade</th>\n",
       "      <td>58645</td>\n",
       "      <td>7</td>\n",
       "      <td>A</td>\n",
       "      <td>20984</td>\n",
       "    </tr>\n",
       "    <tr>\n",
       "      <th>cb_person_default_on_file</th>\n",
       "      <td>58645</td>\n",
       "      <td>2</td>\n",
       "      <td>N</td>\n",
       "      <td>49943</td>\n",
       "    </tr>\n",
       "  </tbody>\n",
       "</table>\n",
       "</div>"
      ],
      "text/plain": [
       "                           count unique        top   freq\n",
       "person_home_ownership      58645      4       RENT  30594\n",
       "loan_intent                58645      6  EDUCATION  12271\n",
       "loan_grade                 58645      7          A  20984\n",
       "cb_person_default_on_file  58645      2          N  49943"
      ]
     },
     "execution_count": 90,
     "metadata": {},
     "output_type": "execute_result"
    }
   ],
   "source": [
    "df_train.describe(include=['O']).T"
   ]
  },
  {
   "cell_type": "code",
   "execution_count": 91,
   "metadata": {},
   "outputs": [
    {
     "name": "stdout",
     "output_type": "stream",
     "text": [
      "Number of duplicates:  0\n",
      "Unique values per column:\n"
     ]
    },
    {
     "data": {
      "text/plain": [
       "person_age                      53\n",
       "person_income                 2641\n",
       "person_home_ownership            4\n",
       "person_emp_length               36\n",
       "loan_intent                      6\n",
       "loan_grade                       7\n",
       "loan_amnt                      545\n",
       "loan_int_rate                  362\n",
       "loan_percent_income             61\n",
       "cb_person_default_on_file        2\n",
       "cb_person_cred_hist_length      29\n",
       "loan_status                      2\n",
       "dtype: int64"
      ]
     },
     "execution_count": 91,
     "metadata": {},
     "output_type": "execute_result"
    }
   ],
   "source": [
    "# print duplicates\n",
    "print(\"Number of duplicates: \", df_train.duplicated().sum())\n",
    "print(\"Unique values per column:\")\n",
    "df_train.nunique()"
   ]
  },
  {
   "cell_type": "code",
   "execution_count": null,
   "metadata": {},
   "outputs": [],
   "source": []
  },
  {
   "cell_type": "markdown",
   "metadata": {},
   "source": [
    "In a nutshell, loan_status = 1 means the applicant has a tendency to be defaulter. So in that case the committee should consider REJECTING the application.\n",
    "0 - Loan approved and 1 - Loan not approved. So, in this competition we will be predicting the probability of the loan application getting rejected.\n",
    "loan_status refers to whether the loan is (will be?) in a state of default, with 1=Default and 0=Non-default.\n",
    "\n",
    "https://www.kaggle.com/competitions/playground-series-s4e10/discussion/536981"
   ]
  },
  {
   "cell_type": "code",
   "execution_count": 93,
   "metadata": {},
   "outputs": [
    {
     "data": {
      "text/plain": [
       "loan_status\n",
       "0    50295\n",
       "1     8350\n",
       "Name: count, dtype: int64"
      ]
     },
     "execution_count": 93,
     "metadata": {},
     "output_type": "execute_result"
    }
   ],
   "source": [
    "df_train['loan_status'].value_counts()"
   ]
  },
  {
   "cell_type": "code",
   "execution_count": 94,
   "metadata": {},
   "outputs": [
    {
     "data": {
      "text/plain": [
       "person_home_ownership\n",
       "RENT        30594\n",
       "MORTGAGE    24824\n",
       "OWN          3138\n",
       "OTHER          89\n",
       "Name: count, dtype: int64"
      ]
     },
     "execution_count": 94,
     "metadata": {},
     "output_type": "execute_result"
    }
   ],
   "source": [
    "df_train['person_home_ownership'].value_counts()"
   ]
  },
  {
   "cell_type": "code",
   "execution_count": null,
   "metadata": {
    "id": "TwSommkthNQ1"
   },
   "outputs": [],
   "source": []
  },
  {
   "cell_type": "code",
   "execution_count": 95,
   "metadata": {},
   "outputs": [
    {
     "name": "stdout",
     "output_type": "stream",
     "text": [
      "Training Data shape before set_index : (58645, 12)\n",
      "Testing Data shape before set_index: (39098, 11)\n"
     ]
    }
   ],
   "source": [
    "print('Training Data shape before set_index :', df_train.shape)\n",
    "print('Testing Data shape before set_index:', df_test.shape)"
   ]
  },
  {
   "cell_type": "code",
   "execution_count": 96,
   "metadata": {},
   "outputs": [
    {
     "name": "stdout",
     "output_type": "stream",
     "text": [
      "Training Data: (58645, 12)\n",
      "Testing Data: (39098, 11)\n"
     ]
    }
   ],
   "source": [
    "print('Training Data:', df_train.shape)\n",
    "print('Testing Data:', df_test.shape)"
   ]
  },
  {
   "cell_type": "code",
   "execution_count": 97,
   "metadata": {},
   "outputs": [
    {
     "name": "stdout",
     "output_type": "stream",
     "text": [
      "<class 'pandas.core.frame.DataFrame'>\n",
      "Index: 58645 entries, 0 to 58644\n",
      "Data columns (total 12 columns):\n",
      " #   Column                      Non-Null Count  Dtype  \n",
      "---  ------                      --------------  -----  \n",
      " 0   person_age                  58645 non-null  int64  \n",
      " 1   person_income               58645 non-null  int64  \n",
      " 2   person_home_ownership       58645 non-null  object \n",
      " 3   person_emp_length           58645 non-null  float64\n",
      " 4   loan_intent                 58645 non-null  object \n",
      " 5   loan_grade                  58645 non-null  object \n",
      " 6   loan_amnt                   58645 non-null  int64  \n",
      " 7   loan_int_rate               58645 non-null  float64\n",
      " 8   loan_percent_income         58645 non-null  float64\n",
      " 9   cb_person_default_on_file   58645 non-null  object \n",
      " 10  cb_person_cred_hist_length  58645 non-null  int64  \n",
      " 11  loan_status                 58645 non-null  int64  \n",
      "dtypes: float64(3), int64(5), object(4)\n",
      "memory usage: 5.8+ MB\n"
     ]
    }
   ],
   "source": [
    "df_train.info()"
   ]
  },
  {
   "cell_type": "code",
   "execution_count": 98,
   "metadata": {},
   "outputs": [
    {
     "name": "stdout",
     "output_type": "stream",
     "text": [
      "<class 'pandas.core.frame.DataFrame'>\n",
      "Index: 39098 entries, 58645 to 97742\n",
      "Data columns (total 11 columns):\n",
      " #   Column                      Non-Null Count  Dtype  \n",
      "---  ------                      --------------  -----  \n",
      " 0   person_age                  39098 non-null  int64  \n",
      " 1   person_income               39098 non-null  int64  \n",
      " 2   person_home_ownership       39098 non-null  object \n",
      " 3   person_emp_length           39098 non-null  float64\n",
      " 4   loan_intent                 39098 non-null  object \n",
      " 5   loan_grade                  39098 non-null  object \n",
      " 6   loan_amnt                   39098 non-null  int64  \n",
      " 7   loan_int_rate               39098 non-null  float64\n",
      " 8   loan_percent_income         39098 non-null  float64\n",
      " 9   cb_person_default_on_file   39098 non-null  object \n",
      " 10  cb_person_cred_hist_length  39098 non-null  int64  \n",
      "dtypes: float64(3), int64(4), object(4)\n",
      "memory usage: 3.6+ MB\n"
     ]
    }
   ],
   "source": [
    "df_test.info()"
   ]
  },
  {
   "cell_type": "code",
   "execution_count": 99,
   "metadata": {
    "id": "amnVPNYNlXrZ"
   },
   "outputs": [],
   "source": [
    "# Identify categorical and numerical features\n",
    "categorical_features = ['person_home_ownership', 'loan_intent', 'loan_grade', 'cb_person_default_on_file']\n",
    "numerical_features = ['person_age', 'person_income', 'person_emp_length', 'loan_amnt',\n",
    "                      'loan_int_rate', 'loan_percent_income', 'cb_person_cred_hist_length']\n"
   ]
  },
  {
   "cell_type": "markdown",
   "metadata": {
    "id": "Ds0pIl7LhP28"
   },
   "source": [
    "# Feature Engineering: Create new features\n",
    "def feature_engineering(df):\n",
    "    # Income to loan amount ratio\n",
    "    df['income_loan_ratio'] = df['person_income'] / df['loan_amnt']\n",
    "    # Employment length to age ratio\n",
    "    df['emp_age_ratio'] = df['person_emp_length'] / df['person_age']\n",
    "    # Interest rate to income ratio\n",
    "    df['int_rate_income_ratio'] = df['loan_int_rate'] / df['person_income']\n",
    "    # Credit history length to age ratio\n",
    "    df['cred_hist_age_ratio'] = df['cb_person_cred_hist_length'] / df['person_age']\n",
    "    return df"
   ]
  },
  {
   "cell_type": "code",
   "execution_count": 101,
   "metadata": {},
   "outputs": [],
   "source": [
    "# Feature Engineering: Create new features\n",
    "def feature_engineering_1(df):  #CB\n",
    "# featrue engineering\n",
    "    df['income_loan_ratio'] = df['person_income'] / df['loan_amnt']\n",
    "    df['person_emp_length_to_person_age'] = df['person_emp_length'] / df['person_age']\n",
    "    df['int_rate_income_ratio'] = df['loan_int_rate'] / df['person_income']\n",
    "    df['cred_hist_age_ratio'] = df['cb_person_cred_hist_length'] / df['person_age']\n",
    "    df[\"loan_percent_income_to_income\"] = df[\"loan_percent_income\"] / df[\"person_income\"]\n",
    "    df['person_age_to_person_income'] = df['person_age'] / df['person_income']\n",
    "    df['loan_int_rate_to_loan_amnt'] = df['loan_int_rate'] / df['loan_amnt']\n",
    "    return df"
   ]
  },
  {
   "cell_type": "code",
   "execution_count": 102,
   "metadata": {
    "id": "eta8JPFDhR6F"
   },
   "outputs": [],
   "source": [
    "df_train = feature_engineering_1(df_train)\n",
    "df_test = feature_engineering_1(df_test)"
   ]
  },
  {
   "cell_type": "code",
   "execution_count": 103,
   "metadata": {},
   "outputs": [
    {
     "name": "stdout",
     "output_type": "stream",
     "text": [
      "Training Data Shape afer feature eng: (58645, 19)\n",
      "Testing Data Shape after feature eng: (39098, 18)\n"
     ]
    }
   ],
   "source": [
    "print('Training Data Shape afer feature eng:', df_train.shape)\n",
    "print('Testing Data Shape after feature eng:', df_test.shape)"
   ]
  },
  {
   "cell_type": "code",
   "execution_count": 104,
   "metadata": {
    "id": "3pWPrK5RhUFk"
   },
   "outputs": [],
   "source": [
    "# Update numerical features with new features\n",
    "numerical_features.extend(['income_loan_ratio', 'person_emp_length_to_person_age', 'int_rate_income_ratio', 'cred_hist_age_ratio', 'loan_percent_income_to_income', 'person_age_to_person_income', 'loan_int_rate_to_loan_amnt'])\n"
   ]
  },
  {
   "cell_type": "code",
   "execution_count": 105,
   "metadata": {},
   "outputs": [
    {
     "data": {
      "text/html": [
       "<div>\n",
       "<style scoped>\n",
       "    .dataframe tbody tr th:only-of-type {\n",
       "        vertical-align: middle;\n",
       "    }\n",
       "\n",
       "    .dataframe tbody tr th {\n",
       "        vertical-align: top;\n",
       "    }\n",
       "\n",
       "    .dataframe thead th {\n",
       "        text-align: right;\n",
       "    }\n",
       "</style>\n",
       "<table border=\"1\" class=\"dataframe\">\n",
       "  <thead>\n",
       "    <tr style=\"text-align: right;\">\n",
       "      <th></th>\n",
       "      <th>person_age</th>\n",
       "      <th>person_income</th>\n",
       "      <th>person_home_ownership</th>\n",
       "      <th>person_emp_length</th>\n",
       "      <th>loan_intent</th>\n",
       "      <th>loan_grade</th>\n",
       "      <th>loan_amnt</th>\n",
       "      <th>loan_int_rate</th>\n",
       "      <th>loan_percent_income</th>\n",
       "      <th>cb_person_default_on_file</th>\n",
       "      <th>cb_person_cred_hist_length</th>\n",
       "      <th>loan_status</th>\n",
       "      <th>income_loan_ratio</th>\n",
       "      <th>person_emp_length_to_person_age</th>\n",
       "      <th>int_rate_income_ratio</th>\n",
       "      <th>cred_hist_age_ratio</th>\n",
       "      <th>loan_percent_income_to_income</th>\n",
       "      <th>person_age_to_person_income</th>\n",
       "      <th>loan_int_rate_to_loan_amnt</th>\n",
       "    </tr>\n",
       "    <tr>\n",
       "      <th>id</th>\n",
       "      <th></th>\n",
       "      <th></th>\n",
       "      <th></th>\n",
       "      <th></th>\n",
       "      <th></th>\n",
       "      <th></th>\n",
       "      <th></th>\n",
       "      <th></th>\n",
       "      <th></th>\n",
       "      <th></th>\n",
       "      <th></th>\n",
       "      <th></th>\n",
       "      <th></th>\n",
       "      <th></th>\n",
       "      <th></th>\n",
       "      <th></th>\n",
       "      <th></th>\n",
       "      <th></th>\n",
       "      <th></th>\n",
       "    </tr>\n",
       "  </thead>\n",
       "  <tbody>\n",
       "    <tr>\n",
       "      <th>0</th>\n",
       "      <td>37</td>\n",
       "      <td>35000</td>\n",
       "      <td>RENT</td>\n",
       "      <td>0.0</td>\n",
       "      <td>EDUCATION</td>\n",
       "      <td>B</td>\n",
       "      <td>6000</td>\n",
       "      <td>11.49</td>\n",
       "      <td>0.17</td>\n",
       "      <td>N</td>\n",
       "      <td>14</td>\n",
       "      <td>0</td>\n",
       "      <td>5.833333</td>\n",
       "      <td>0.000000</td>\n",
       "      <td>0.000328</td>\n",
       "      <td>0.378378</td>\n",
       "      <td>0.000005</td>\n",
       "      <td>0.001057</td>\n",
       "      <td>0.001915</td>\n",
       "    </tr>\n",
       "    <tr>\n",
       "      <th>1</th>\n",
       "      <td>22</td>\n",
       "      <td>56000</td>\n",
       "      <td>OWN</td>\n",
       "      <td>6.0</td>\n",
       "      <td>MEDICAL</td>\n",
       "      <td>C</td>\n",
       "      <td>4000</td>\n",
       "      <td>13.35</td>\n",
       "      <td>0.07</td>\n",
       "      <td>N</td>\n",
       "      <td>2</td>\n",
       "      <td>0</td>\n",
       "      <td>14.000000</td>\n",
       "      <td>0.272727</td>\n",
       "      <td>0.000238</td>\n",
       "      <td>0.090909</td>\n",
       "      <td>0.000001</td>\n",
       "      <td>0.000393</td>\n",
       "      <td>0.003337</td>\n",
       "    </tr>\n",
       "    <tr>\n",
       "      <th>2</th>\n",
       "      <td>29</td>\n",
       "      <td>28800</td>\n",
       "      <td>OWN</td>\n",
       "      <td>8.0</td>\n",
       "      <td>PERSONAL</td>\n",
       "      <td>A</td>\n",
       "      <td>6000</td>\n",
       "      <td>8.90</td>\n",
       "      <td>0.21</td>\n",
       "      <td>N</td>\n",
       "      <td>10</td>\n",
       "      <td>0</td>\n",
       "      <td>4.800000</td>\n",
       "      <td>0.275862</td>\n",
       "      <td>0.000309</td>\n",
       "      <td>0.344828</td>\n",
       "      <td>0.000007</td>\n",
       "      <td>0.001007</td>\n",
       "      <td>0.001483</td>\n",
       "    </tr>\n",
       "    <tr>\n",
       "      <th>3</th>\n",
       "      <td>30</td>\n",
       "      <td>70000</td>\n",
       "      <td>RENT</td>\n",
       "      <td>14.0</td>\n",
       "      <td>VENTURE</td>\n",
       "      <td>B</td>\n",
       "      <td>12000</td>\n",
       "      <td>11.11</td>\n",
       "      <td>0.17</td>\n",
       "      <td>N</td>\n",
       "      <td>5</td>\n",
       "      <td>0</td>\n",
       "      <td>5.833333</td>\n",
       "      <td>0.466667</td>\n",
       "      <td>0.000159</td>\n",
       "      <td>0.166667</td>\n",
       "      <td>0.000002</td>\n",
       "      <td>0.000429</td>\n",
       "      <td>0.000926</td>\n",
       "    </tr>\n",
       "    <tr>\n",
       "      <th>4</th>\n",
       "      <td>22</td>\n",
       "      <td>60000</td>\n",
       "      <td>RENT</td>\n",
       "      <td>2.0</td>\n",
       "      <td>MEDICAL</td>\n",
       "      <td>A</td>\n",
       "      <td>6000</td>\n",
       "      <td>6.92</td>\n",
       "      <td>0.10</td>\n",
       "      <td>N</td>\n",
       "      <td>3</td>\n",
       "      <td>0</td>\n",
       "      <td>10.000000</td>\n",
       "      <td>0.090909</td>\n",
       "      <td>0.000115</td>\n",
       "      <td>0.136364</td>\n",
       "      <td>0.000002</td>\n",
       "      <td>0.000367</td>\n",
       "      <td>0.001153</td>\n",
       "    </tr>\n",
       "  </tbody>\n",
       "</table>\n",
       "</div>"
      ],
      "text/plain": [
       "    person_age  person_income person_home_ownership  person_emp_length  \\\n",
       "id                                                                       \n",
       "0           37          35000                  RENT                0.0   \n",
       "1           22          56000                   OWN                6.0   \n",
       "2           29          28800                   OWN                8.0   \n",
       "3           30          70000                  RENT               14.0   \n",
       "4           22          60000                  RENT                2.0   \n",
       "\n",
       "   loan_intent loan_grade  loan_amnt  loan_int_rate  loan_percent_income  \\\n",
       "id                                                                         \n",
       "0    EDUCATION          B       6000          11.49                 0.17   \n",
       "1      MEDICAL          C       4000          13.35                 0.07   \n",
       "2     PERSONAL          A       6000           8.90                 0.21   \n",
       "3      VENTURE          B      12000          11.11                 0.17   \n",
       "4      MEDICAL          A       6000           6.92                 0.10   \n",
       "\n",
       "   cb_person_default_on_file  cb_person_cred_hist_length  loan_status  \\\n",
       "id                                                                      \n",
       "0                          N                          14            0   \n",
       "1                          N                           2            0   \n",
       "2                          N                          10            0   \n",
       "3                          N                           5            0   \n",
       "4                          N                           3            0   \n",
       "\n",
       "    income_loan_ratio  person_emp_length_to_person_age  int_rate_income_ratio  \\\n",
       "id                                                                              \n",
       "0            5.833333                         0.000000               0.000328   \n",
       "1           14.000000                         0.272727               0.000238   \n",
       "2            4.800000                         0.275862               0.000309   \n",
       "3            5.833333                         0.466667               0.000159   \n",
       "4           10.000000                         0.090909               0.000115   \n",
       "\n",
       "    cred_hist_age_ratio  loan_percent_income_to_income  \\\n",
       "id                                                       \n",
       "0              0.378378                       0.000005   \n",
       "1              0.090909                       0.000001   \n",
       "2              0.344828                       0.000007   \n",
       "3              0.166667                       0.000002   \n",
       "4              0.136364                       0.000002   \n",
       "\n",
       "    person_age_to_person_income  loan_int_rate_to_loan_amnt  \n",
       "id                                                           \n",
       "0                      0.001057                    0.001915  \n",
       "1                      0.000393                    0.003337  \n",
       "2                      0.001007                    0.001483  \n",
       "3                      0.000429                    0.000926  \n",
       "4                      0.000367                    0.001153  "
      ]
     },
     "execution_count": 105,
     "metadata": {},
     "output_type": "execute_result"
    }
   ],
   "source": [
    "df_train.head()"
   ]
  },
  {
   "cell_type": "code",
   "execution_count": 106,
   "metadata": {},
   "outputs": [
    {
     "data": {
      "text/html": [
       "<div>\n",
       "<style scoped>\n",
       "    .dataframe tbody tr th:only-of-type {\n",
       "        vertical-align: middle;\n",
       "    }\n",
       "\n",
       "    .dataframe tbody tr th {\n",
       "        vertical-align: top;\n",
       "    }\n",
       "\n",
       "    .dataframe thead th {\n",
       "        text-align: right;\n",
       "    }\n",
       "</style>\n",
       "<table border=\"1\" class=\"dataframe\">\n",
       "  <thead>\n",
       "    <tr style=\"text-align: right;\">\n",
       "      <th></th>\n",
       "      <th>person_age</th>\n",
       "      <th>person_income</th>\n",
       "      <th>person_home_ownership</th>\n",
       "      <th>person_emp_length</th>\n",
       "      <th>loan_intent</th>\n",
       "      <th>loan_grade</th>\n",
       "      <th>loan_amnt</th>\n",
       "      <th>loan_int_rate</th>\n",
       "      <th>loan_percent_income</th>\n",
       "      <th>cb_person_default_on_file</th>\n",
       "      <th>cb_person_cred_hist_length</th>\n",
       "      <th>income_loan_ratio</th>\n",
       "      <th>person_emp_length_to_person_age</th>\n",
       "      <th>int_rate_income_ratio</th>\n",
       "      <th>cred_hist_age_ratio</th>\n",
       "      <th>loan_percent_income_to_income</th>\n",
       "      <th>person_age_to_person_income</th>\n",
       "      <th>loan_int_rate_to_loan_amnt</th>\n",
       "    </tr>\n",
       "    <tr>\n",
       "      <th>id</th>\n",
       "      <th></th>\n",
       "      <th></th>\n",
       "      <th></th>\n",
       "      <th></th>\n",
       "      <th></th>\n",
       "      <th></th>\n",
       "      <th></th>\n",
       "      <th></th>\n",
       "      <th></th>\n",
       "      <th></th>\n",
       "      <th></th>\n",
       "      <th></th>\n",
       "      <th></th>\n",
       "      <th></th>\n",
       "      <th></th>\n",
       "      <th></th>\n",
       "      <th></th>\n",
       "      <th></th>\n",
       "    </tr>\n",
       "  </thead>\n",
       "  <tbody>\n",
       "    <tr>\n",
       "      <th>58645</th>\n",
       "      <td>23</td>\n",
       "      <td>69000</td>\n",
       "      <td>RENT</td>\n",
       "      <td>3.0</td>\n",
       "      <td>HOMEIMPROVEMENT</td>\n",
       "      <td>F</td>\n",
       "      <td>25000</td>\n",
       "      <td>15.76</td>\n",
       "      <td>0.36</td>\n",
       "      <td>N</td>\n",
       "      <td>2</td>\n",
       "      <td>2.760000</td>\n",
       "      <td>0.130435</td>\n",
       "      <td>0.000228</td>\n",
       "      <td>0.086957</td>\n",
       "      <td>0.000005</td>\n",
       "      <td>0.000333</td>\n",
       "      <td>0.000630</td>\n",
       "    </tr>\n",
       "    <tr>\n",
       "      <th>58646</th>\n",
       "      <td>26</td>\n",
       "      <td>96000</td>\n",
       "      <td>MORTGAGE</td>\n",
       "      <td>6.0</td>\n",
       "      <td>PERSONAL</td>\n",
       "      <td>C</td>\n",
       "      <td>10000</td>\n",
       "      <td>12.68</td>\n",
       "      <td>0.10</td>\n",
       "      <td>Y</td>\n",
       "      <td>4</td>\n",
       "      <td>9.600000</td>\n",
       "      <td>0.230769</td>\n",
       "      <td>0.000132</td>\n",
       "      <td>0.153846</td>\n",
       "      <td>0.000001</td>\n",
       "      <td>0.000271</td>\n",
       "      <td>0.001268</td>\n",
       "    </tr>\n",
       "    <tr>\n",
       "      <th>58647</th>\n",
       "      <td>26</td>\n",
       "      <td>30000</td>\n",
       "      <td>RENT</td>\n",
       "      <td>5.0</td>\n",
       "      <td>VENTURE</td>\n",
       "      <td>E</td>\n",
       "      <td>4000</td>\n",
       "      <td>17.19</td>\n",
       "      <td>0.13</td>\n",
       "      <td>Y</td>\n",
       "      <td>2</td>\n",
       "      <td>7.500000</td>\n",
       "      <td>0.192308</td>\n",
       "      <td>0.000573</td>\n",
       "      <td>0.076923</td>\n",
       "      <td>0.000004</td>\n",
       "      <td>0.000867</td>\n",
       "      <td>0.004298</td>\n",
       "    </tr>\n",
       "    <tr>\n",
       "      <th>58648</th>\n",
       "      <td>33</td>\n",
       "      <td>50000</td>\n",
       "      <td>RENT</td>\n",
       "      <td>4.0</td>\n",
       "      <td>DEBTCONSOLIDATION</td>\n",
       "      <td>A</td>\n",
       "      <td>7000</td>\n",
       "      <td>8.90</td>\n",
       "      <td>0.14</td>\n",
       "      <td>N</td>\n",
       "      <td>7</td>\n",
       "      <td>7.142857</td>\n",
       "      <td>0.121212</td>\n",
       "      <td>0.000178</td>\n",
       "      <td>0.212121</td>\n",
       "      <td>0.000003</td>\n",
       "      <td>0.000660</td>\n",
       "      <td>0.001271</td>\n",
       "    </tr>\n",
       "    <tr>\n",
       "      <th>58649</th>\n",
       "      <td>26</td>\n",
       "      <td>102000</td>\n",
       "      <td>MORTGAGE</td>\n",
       "      <td>8.0</td>\n",
       "      <td>HOMEIMPROVEMENT</td>\n",
       "      <td>D</td>\n",
       "      <td>15000</td>\n",
       "      <td>16.32</td>\n",
       "      <td>0.15</td>\n",
       "      <td>Y</td>\n",
       "      <td>4</td>\n",
       "      <td>6.800000</td>\n",
       "      <td>0.307692</td>\n",
       "      <td>0.000160</td>\n",
       "      <td>0.153846</td>\n",
       "      <td>0.000001</td>\n",
       "      <td>0.000255</td>\n",
       "      <td>0.001088</td>\n",
       "    </tr>\n",
       "  </tbody>\n",
       "</table>\n",
       "</div>"
      ],
      "text/plain": [
       "       person_age  person_income person_home_ownership  person_emp_length  \\\n",
       "id                                                                          \n",
       "58645          23          69000                  RENT                3.0   \n",
       "58646          26          96000              MORTGAGE                6.0   \n",
       "58647          26          30000                  RENT                5.0   \n",
       "58648          33          50000                  RENT                4.0   \n",
       "58649          26         102000              MORTGAGE                8.0   \n",
       "\n",
       "             loan_intent loan_grade  loan_amnt  loan_int_rate  \\\n",
       "id                                                              \n",
       "58645    HOMEIMPROVEMENT          F      25000          15.76   \n",
       "58646           PERSONAL          C      10000          12.68   \n",
       "58647            VENTURE          E       4000          17.19   \n",
       "58648  DEBTCONSOLIDATION          A       7000           8.90   \n",
       "58649    HOMEIMPROVEMENT          D      15000          16.32   \n",
       "\n",
       "       loan_percent_income cb_person_default_on_file  \\\n",
       "id                                                     \n",
       "58645                 0.36                         N   \n",
       "58646                 0.10                         Y   \n",
       "58647                 0.13                         Y   \n",
       "58648                 0.14                         N   \n",
       "58649                 0.15                         Y   \n",
       "\n",
       "       cb_person_cred_hist_length  income_loan_ratio  \\\n",
       "id                                                     \n",
       "58645                           2           2.760000   \n",
       "58646                           4           9.600000   \n",
       "58647                           2           7.500000   \n",
       "58648                           7           7.142857   \n",
       "58649                           4           6.800000   \n",
       "\n",
       "       person_emp_length_to_person_age  int_rate_income_ratio  \\\n",
       "id                                                              \n",
       "58645                         0.130435               0.000228   \n",
       "58646                         0.230769               0.000132   \n",
       "58647                         0.192308               0.000573   \n",
       "58648                         0.121212               0.000178   \n",
       "58649                         0.307692               0.000160   \n",
       "\n",
       "       cred_hist_age_ratio  loan_percent_income_to_income  \\\n",
       "id                                                          \n",
       "58645             0.086957                       0.000005   \n",
       "58646             0.153846                       0.000001   \n",
       "58647             0.076923                       0.000004   \n",
       "58648             0.212121                       0.000003   \n",
       "58649             0.153846                       0.000001   \n",
       "\n",
       "       person_age_to_person_income  loan_int_rate_to_loan_amnt  \n",
       "id                                                              \n",
       "58645                     0.000333                    0.000630  \n",
       "58646                     0.000271                    0.001268  \n",
       "58647                     0.000867                    0.004298  \n",
       "58648                     0.000660                    0.001271  \n",
       "58649                     0.000255                    0.001088  "
      ]
     },
     "execution_count": 106,
     "metadata": {},
     "output_type": "execute_result"
    }
   ],
   "source": [
    "df_test.head()"
   ]
  },
  {
   "cell_type": "code",
   "execution_count": 107,
   "metadata": {},
   "outputs": [],
   "source": [
    "df_train.to_csv(\"df_train.csv\")\n",
    "df_test.to_csv(\"df_test.csv\")"
   ]
  },
  {
   "cell_type": "code",
   "execution_count": 108,
   "metadata": {},
   "outputs": [
    {
     "name": "stdout",
     "output_type": "stream",
     "text": [
      "<class 'pandas.core.frame.DataFrame'>\n",
      "Index: 58645 entries, 0 to 58644\n",
      "Data columns (total 19 columns):\n",
      " #   Column                           Non-Null Count  Dtype  \n",
      "---  ------                           --------------  -----  \n",
      " 0   person_age                       58645 non-null  int64  \n",
      " 1   person_income                    58645 non-null  int64  \n",
      " 2   person_home_ownership            58645 non-null  object \n",
      " 3   person_emp_length                58645 non-null  float64\n",
      " 4   loan_intent                      58645 non-null  object \n",
      " 5   loan_grade                       58645 non-null  object \n",
      " 6   loan_amnt                        58645 non-null  int64  \n",
      " 7   loan_int_rate                    58645 non-null  float64\n",
      " 8   loan_percent_income              58645 non-null  float64\n",
      " 9   cb_person_default_on_file        58645 non-null  object \n",
      " 10  cb_person_cred_hist_length       58645 non-null  int64  \n",
      " 11  loan_status                      58645 non-null  int64  \n",
      " 12  income_loan_ratio                58645 non-null  float64\n",
      " 13  person_emp_length_to_person_age  58645 non-null  float64\n",
      " 14  int_rate_income_ratio            58645 non-null  float64\n",
      " 15  cred_hist_age_ratio              58645 non-null  float64\n",
      " 16  loan_percent_income_to_income    58645 non-null  float64\n",
      " 17  person_age_to_person_income      58645 non-null  float64\n",
      " 18  loan_int_rate_to_loan_amnt       58645 non-null  float64\n",
      "dtypes: float64(10), int64(5), object(4)\n",
      "memory usage: 8.9+ MB\n"
     ]
    }
   ],
   "source": [
    "df_train.info()"
   ]
  },
  {
   "cell_type": "code",
   "execution_count": 109,
   "metadata": {},
   "outputs": [
    {
     "name": "stdout",
     "output_type": "stream",
     "text": [
      "<class 'pandas.core.frame.DataFrame'>\n",
      "Index: 39098 entries, 58645 to 97742\n",
      "Data columns (total 18 columns):\n",
      " #   Column                           Non-Null Count  Dtype  \n",
      "---  ------                           --------------  -----  \n",
      " 0   person_age                       39098 non-null  int64  \n",
      " 1   person_income                    39098 non-null  int64  \n",
      " 2   person_home_ownership            39098 non-null  object \n",
      " 3   person_emp_length                39098 non-null  float64\n",
      " 4   loan_intent                      39098 non-null  object \n",
      " 5   loan_grade                       39098 non-null  object \n",
      " 6   loan_amnt                        39098 non-null  int64  \n",
      " 7   loan_int_rate                    39098 non-null  float64\n",
      " 8   loan_percent_income              39098 non-null  float64\n",
      " 9   cb_person_default_on_file        39098 non-null  object \n",
      " 10  cb_person_cred_hist_length       39098 non-null  int64  \n",
      " 11  income_loan_ratio                39098 non-null  float64\n",
      " 12  person_emp_length_to_person_age  39098 non-null  float64\n",
      " 13  int_rate_income_ratio            39098 non-null  float64\n",
      " 14  cred_hist_age_ratio              39098 non-null  float64\n",
      " 15  loan_percent_income_to_income    39098 non-null  float64\n",
      " 16  person_age_to_person_income      39098 non-null  float64\n",
      " 17  loan_int_rate_to_loan_amnt       39098 non-null  float64\n",
      "dtypes: float64(10), int64(4), object(4)\n",
      "memory usage: 5.7+ MB\n"
     ]
    }
   ],
   "source": [
    "df_test.info()"
   ]
  },
  {
   "cell_type": "code",
   "execution_count": 110,
   "metadata": {
    "id": "gTP1pvgKhV1M"
   },
   "outputs": [],
   "source": [
    "# Separate features and target\n",
    "X = df_train.drop(columns='loan_status')\n",
    "y = df_train['loan_status']\n"
   ]
  },
  {
   "cell_type": "code",
   "execution_count": 111,
   "metadata": {},
   "outputs": [
    {
     "name": "stdout",
     "output_type": "stream",
     "text": [
      "Training Data shape before Target Encoding : (58645, 19)\n",
      "Testing Data shape before Target Encoding: (39098, 18)\n"
     ]
    }
   ],
   "source": [
    "print('Training Data shape before Target Encoding :', df_train.shape)\n",
    "print('Testing Data shape before Target Encoding:', df_test.shape)"
   ]
  },
  {
   "cell_type": "code",
   "execution_count": 112,
   "metadata": {
    "id": "uM5yP51UhXyn"
   },
   "outputs": [],
   "source": [
    "# Initialize Target Encoder\n",
    "target_enc = ce.TargetEncoder(cols=categorical_features)\n"
   ]
  },
  {
   "cell_type": "code",
   "execution_count": 113,
   "metadata": {},
   "outputs": [
    {
     "name": "stdout",
     "output_type": "stream",
     "text": [
      "Training Data shape before Target Encoding : (58645, 19)\n",
      "Testing Data shape before Target Encoding: (39098, 18)\n"
     ]
    }
   ],
   "source": [
    "print('Training Data shape before Target Encoding :', df_train.shape)\n",
    "print('Testing Data shape before Target Encoding:', df_test.shape)"
   ]
  },
  {
   "cell_type": "code",
   "execution_count": 114,
   "metadata": {},
   "outputs": [
    {
     "name": "stdout",
     "output_type": "stream",
     "text": [
      "X shape before Optuna : (58645, 18)\n",
      "y shape before Optuna : (58645,)\n"
     ]
    }
   ],
   "source": [
    "print('X shape before Optuna :', X.shape)\n",
    "print('y shape before Optuna :', y.shape)"
   ]
  },
  {
   "cell_type": "code",
   "execution_count": 115,
   "metadata": {},
   "outputs": [],
   "source": [
    "# Initialize TargetEncoder\n",
    "target_enc = ce.TargetEncoder(cols=categorical_features)\n",
    "\n",
    "# Stratified K-Fold for preserving class distribution\n",
    "skf = StratifiedKFold(n_splits=5, shuffle=True, random_state=42)\n",
    "\n",
    "# Initialize StandardScaler\n",
    "scaler = StandardScaler()\n",
    "\n",
    "# To store the transformed data\n",
    "X_encoded_scaled = pd.DataFrame(index=X.index, columns=X.columns)\n",
    "\n",
    "# Perform target encoding and scaling using cross-validation\n",
    "for train_index, valid_index in skf.split(X, y):\n",
    "    X_train, X_valid = X.iloc[train_index], X.iloc[valid_index]\n",
    "    y_train, y_valid = y.iloc[train_index], y.iloc[valid_index]\n",
    "    \n",
    "    # Fit the target encoder on training data\n",
    "    target_enc.fit(X_train[categorical_features], y_train)\n",
    "    \n",
    "    # Transform both training and validation data\n",
    "    X_train_encoded = X_train.copy()\n",
    "    X_valid_encoded = X_valid.copy()\n",
    "    X_train_encoded[categorical_features] = target_enc.transform(X_train[categorical_features])\n",
    "    X_valid_encoded[categorical_features] = target_enc.transform(X_valid[categorical_features])\n",
    "    \n",
    "    # Fit the scaler on the numerical features of the training set\n",
    "    scaler.fit(X_train_encoded[numerical_features])\n",
    "    \n",
    "    # Scale numerical features\n",
    "    X_train_encoded[numerical_features] = scaler.transform(X_train_encoded[numerical_features])\n",
    "    X_valid_encoded[numerical_features] = scaler.transform(X_valid_encoded[numerical_features])\n",
    "    \n",
    "    # Save encoded and scaled validation data\n",
    "    X_encoded_scaled.loc[valid_index, categorical_features] = X_valid_encoded[categorical_features]\n",
    "    X_encoded_scaled.loc[valid_index, numerical_features] = X_valid_encoded[numerical_features]\n",
    "\n",
    " \n",
    "# Final fit on the entire dataset after cross-validation for consistency\n",
    "target_enc.fit(X[categorical_features], y)\n",
    "X_encoded_scaled[categorical_features] = target_enc.transform(X[categorical_features])\n",
    "scaler.fit(X[numerical_features])\n",
    "X_encoded_scaled[numerical_features] = scaler.transform(X[numerical_features])\n",
    "\n",
    "# X_encoded_scaled now contains target-encoded categorical features and scaled numerical features\n"
   ]
  },
  {
   "cell_type": "code",
   "execution_count": null,
   "metadata": {},
   "outputs": [],
   "source": []
  },
  {
   "cell_type": "code",
   "execution_count": 116,
   "metadata": {},
   "outputs": [],
   "source": [
    "import pandas as pd\n",
    "import numpy as np\n",
    "import matplotlib.pyplot as plt\n",
    "import seaborn as sns\n",
    "\n",
    "from sklearn.model_selection import StratifiedKFold, cross_val_score\n",
    "from sklearn.preprocessing import StandardScaler\n",
    "from category_encoders.target_encoder import TargetEncoder\n",
    "\n",
    "from sklearn.linear_model import LogisticRegression\n",
    "from sklearn.discriminant_analysis import LinearDiscriminantAnalysis\n",
    "from sklearn.neighbors import KNeighborsClassifier\n",
    "from sklearn.tree import DecisionTreeClassifier\n",
    "from sklearn.naive_bayes import GaussianNB\n",
    "from xgboost import XGBClassifier\n",
    "from sklearn.ensemble import RandomForestClassifier, ExtraTreesClassifier\n",
    "from catboost import CatBoostClassifier\n",
    "from lightgbm import LGBMClassifier\n",
    "from sklearn.svm import SVC\n",
    "\n"
   ]
  },
  {
   "cell_type": "code",
   "execution_count": 117,
   "metadata": {},
   "outputs": [
    {
     "name": "stderr",
     "output_type": "stream",
     "text": [
      "C:\\Users\\monas\\anaconda3\\Lib\\site-packages\\sklearn\\linear_model\\_logistic.py:469: ConvergenceWarning: lbfgs failed to converge (status=1):\n",
      "STOP: TOTAL NO. of ITERATIONS REACHED LIMIT.\n",
      "\n",
      "Increase the number of iterations (max_iter) or scale the data as shown in:\n",
      "    https://scikit-learn.org/stable/modules/preprocessing.html\n",
      "Please also refer to the documentation for alternative solver options:\n",
      "    https://scikit-learn.org/stable/modules/linear_model.html#logistic-regression\n",
      "  n_iter_i = _check_optimize_result(\n"
     ]
    },
    {
     "name": "stdout",
     "output_type": "stream",
     "text": [
      "LR: Mean AUC = 0.9012, Std AUC = 0.0018\n",
      "LDA: Mean AUC = 0.8900, Std AUC = 0.0024\n",
      "KNN: Mean AUC = 0.8396, Std AUC = 0.0047\n",
      "DCT: Mean AUC = 0.8181, Std AUC = 0.0123\n",
      "NB: Mean AUC = 0.8891, Std AUC = 0.0030\n"
     ]
    },
    {
     "name": "stderr",
     "output_type": "stream",
     "text": [
      "C:\\Users\\monas\\anaconda3\\Lib\\site-packages\\xgboost\\core.py:158: UserWarning: [12:29:46] WARNING: C:\\buildkite-agent\\builds\\buildkite-windows-cpu-autoscaling-group-i-0ed59c031377d09b8-1\\xgboost\\xgboost-ci-windows\\src\\learner.cc:740: \n",
      "Parameters: { \"use_label_encoder\" } are not used.\n",
      "\n",
      "  warnings.warn(smsg, UserWarning)\n",
      "C:\\Users\\monas\\anaconda3\\Lib\\site-packages\\xgboost\\core.py:158: UserWarning: [12:29:47] WARNING: C:\\buildkite-agent\\builds\\buildkite-windows-cpu-autoscaling-group-i-0ed59c031377d09b8-1\\xgboost\\xgboost-ci-windows\\src\\learner.cc:740: \n",
      "Parameters: { \"use_label_encoder\" } are not used.\n",
      "\n",
      "  warnings.warn(smsg, UserWarning)\n",
      "C:\\Users\\monas\\anaconda3\\Lib\\site-packages\\xgboost\\core.py:158: UserWarning: [12:29:47] WARNING: C:\\buildkite-agent\\builds\\buildkite-windows-cpu-autoscaling-group-i-0ed59c031377d09b8-1\\xgboost\\xgboost-ci-windows\\src\\learner.cc:740: \n",
      "Parameters: { \"use_label_encoder\" } are not used.\n",
      "\n",
      "  warnings.warn(smsg, UserWarning)\n",
      "C:\\Users\\monas\\anaconda3\\Lib\\site-packages\\xgboost\\core.py:158: UserWarning: [12:29:47] WARNING: C:\\buildkite-agent\\builds\\buildkite-windows-cpu-autoscaling-group-i-0ed59c031377d09b8-1\\xgboost\\xgboost-ci-windows\\src\\learner.cc:740: \n",
      "Parameters: { \"use_label_encoder\" } are not used.\n",
      "\n",
      "  warnings.warn(smsg, UserWarning)\n",
      "C:\\Users\\monas\\anaconda3\\Lib\\site-packages\\xgboost\\core.py:158: UserWarning: [12:29:48] WARNING: C:\\buildkite-agent\\builds\\buildkite-windows-cpu-autoscaling-group-i-0ed59c031377d09b8-1\\xgboost\\xgboost-ci-windows\\src\\learner.cc:740: \n",
      "Parameters: { \"use_label_encoder\" } are not used.\n",
      "\n",
      "  warnings.warn(smsg, UserWarning)\n"
     ]
    },
    {
     "name": "stdout",
     "output_type": "stream",
     "text": [
      "XGB: Mean AUC = 0.9387, Std AUC = 0.0123\n",
      "RF: Mean AUC = 0.9337, Std AUC = 0.0033\n",
      "CB: Mean AUC = 0.9509, Std AUC = 0.0045\n",
      "LGBM: Mean AUC = 0.9511, Std AUC = 0.0042\n",
      "EXTREE: Mean AUC = 0.9230, Std AUC = 0.0015\n",
      "SVM: Mean AUC = 0.8680, Std AUC = 0.0042\n",
      "        Mean AUC   Std AUC\n",
      "LGBM    0.951112  0.004226\n",
      "CB      0.950925  0.004533\n",
      "XGB     0.938680  0.012289\n",
      "RF      0.933689  0.003251\n",
      "EXTREE  0.923005  0.001525\n",
      "LR      0.901238  0.001778\n",
      "LDA     0.890028  0.002379\n",
      "NB      0.889093  0.003038\n",
      "SVM     0.867985  0.004168\n",
      "KNN     0.839586  0.004664\n",
      "DCT     0.818062  0.012298\n"
     ]
    },
    {
     "data": {
      "image/png": "[encoded data removed]",
      "text/plain": [
       "<Figure size 1000x400 with 2 Axes>"
      ]
     },
     "metadata": {},
     "output_type": "display_data"
    },
    {
     "name": "stderr",
     "output_type": "stream",
     "text": [
      "C:\\Users\\monas\\AppData\\Local\\Temp\\ipykernel_2176\\1910355990.py:78: FutureWarning: \n",
      "\n",
      "Passing `palette` without assigning `hue` is deprecated and will be removed in v0.14.0. Assign the `x` variable to `hue` and set `legend=False` for the same effect.\n",
      "\n",
      "  sns.barplot(x=model_results_df.index, y=model_results_df[\"Mean AUC\"], palette=\"viridis\", edgecolor=\"black\")\n"
     ]
    },
    {
     "data": {
      "image/png": "[encoded data removed]",
      "text/plain": [
       "<Figure size 1000x500 with 1 Axes>"
      ]
     },
     "metadata": {},
     "output_type": "display_data"
    }
   ],
   "source": [
    "from category_encoders.target_encoder import TargetEncoder\n",
    "# Load datasets\n",
    "df_train = pd.read_csv(\"df_train.csv\")\n",
    "df_test = pd.read_csv(\"df_test.csv\")\n",
    "# Define categorical and numerical features\n",
    "categorical_features = [\"person_home_ownership\", \"loan_intent\", \"loan_grade\", \"cb_person_default_on_file\"]\n",
    "numerical_features = [col for col in df_train.columns if col not in categorical_features + [\"loan_status\", \"id\"]]\n",
    "\n",
    "# Separate features and target variable\n",
    "X_train = df_train.drop(columns=[\"loan_status\", \"id\"])\n",
    "y_train = df_train[\"loan_status\"]\n",
    "X_test = df_test.drop(columns=[\"id\"])\n",
    "\n",
    "# Initialize encoders and scalers\n",
    "encoder = TargetEncoder()\n",
    "scaler = StandardScaler()\n",
    "\n",
    "# Apply target encoding using cross-validation\n",
    "X_train_encoded = X_train.copy()\n",
    "X_test_encoded = X_test.copy()\n",
    "\n",
    "skf = StratifiedKFold(n_splits=5, shuffle=True, random_state=7)\n",
    "\n",
    "for cat in categorical_features:\n",
    "    X_train_encoded[cat] = np.zeros(X_train.shape[0])\n",
    "    for train_idx, val_idx in skf.split(X_train, y_train):\n",
    "        encoder.fit(X_train.iloc[train_idx][cat], y_train.iloc[train_idx])\n",
    "        X_train_encoded.loc[val_idx, cat] = encoder.transform(X_train.iloc[val_idx][cat])\n",
    "    X_test_encoded[cat] = encoder.fit(X_train[cat], y_train).transform(X_test[cat])\n",
    "\n",
    "# Scale numerical features\n",
    "X_train_encoded[numerical_features] = scaler.fit_transform(X_train_encoded[numerical_features])\n",
    "X_test_encoded[numerical_features] = scaler.transform(X_test_encoded[numerical_features])\n",
    "\n",
    "# Initialize models\n",
    "models = [\n",
    "    ('LR', LogisticRegression()),\n",
    "    ('LDA', LinearDiscriminantAnalysis()),\n",
    "    ('KNN', KNeighborsClassifier()),\n",
    "    ('DCT', DecisionTreeClassifier()),\n",
    "    ('NB', GaussianNB()),\n",
    "    ('XGB', XGBClassifier(use_label_encoder=False, eval_metric='logloss')),\n",
    "    ('RF', RandomForestClassifier(n_estimators=200)),\n",
    "    ('CB', CatBoostClassifier(verbose=False)),\n",
    "    ('LGBM', LGBMClassifier(verbosity=-1)),\n",
    "    ('EXTREE', ExtraTreesClassifier(verbose=False)),\n",
    "    ('SVM', SVC(probability=True))\n",
    "]\n",
    "\n",
    "# Perform model evaluation using Stratified K-Fold Cross Validation\n",
    "scoring = \"roc_auc\"\n",
    "results = []\n",
    "names = []\n",
    "model_scores = {}\n",
    "\n",
    "for name, model in models:\n",
    "    kfold = StratifiedKFold(n_splits=5, shuffle=True, random_state=7)\n",
    "    cv_results = cross_val_score(model, X_train_encoded, y_train, cv=kfold, scoring=scoring)\n",
    "    results.append(cv_results)\n",
    "    names.append(name)\n",
    "    model_scores[name] = {\"Mean AUC\": cv_results.mean(), \"Std AUC\": cv_results.std()}\n",
    "    print(f\"{name}: Mean AUC = {cv_results.mean():.4f}, Std AUC = {cv_results.std():.4f}\")\n",
    "\n",
    "# Convert results to DataFrame\n",
    "model_results_df = pd.DataFrame(model_scores).T.sort_values(by=\"Mean AUC\", ascending=False)\n",
    "print(model_results_df)\n",
    "\n",
    "# --- Visualization ---\n",
    "\n",
    "# Attractive Table Display\n",
    "plt.figure(figsize=(10, 4))\n",
    "sns.heatmap(model_results_df.T, annot=True, cmap=\"coolwarm\", fmt=\".3f\", linewidths=0.5)\n",
    "plt.title(\"Algorithm Comparison (AUC Score)\")\n",
    "plt.show()\n",
    "\n",
    "# Attractive Bar Chart\n",
    "plt.figure(figsize=(10, 5))\n",
    "sns.barplot(x=model_results_df.index, y=model_results_df[\"Mean AUC\"], palette=\"viridis\", edgecolor=\"black\")\n",
    "plt.xticks(rotation=30)\n",
    "plt.xlabel(\"Algorithms\")\n",
    "plt.ylabel(\"Mean AUC Score\")\n",
    "plt.title(\"Model Performance Comparison\")\n",
    "plt.show()\n"
   ]
  },
  {
   "cell_type": "code",
   "execution_count": null,
   "metadata": {},
   "outputs": [],
   "source": []
  },
  {
   "cell_type": "code",
   "execution_count": null,
   "metadata": {},
   "outputs": [],
   "source": []
  },
  {
   "cell_type": "code",
   "execution_count": null,
   "metadata": {},
   "outputs": [],
   "source": []
  },
  {
   "cell_type": "code",
   "execution_count": null,
   "metadata": {},
   "outputs": [],
   "source": []
  },
  {
   "cell_type": "code",
   "execution_count": null,
   "metadata": {},
   "outputs": [],
   "source": []
  },
  {
   "cell_type": "code",
   "execution_count": null,
   "metadata": {},
   "outputs": [],
   "source": []
  },
  {
   "cell_type": "code",
   "execution_count": null,
   "metadata": {},
   "outputs": [],
   "source": []
  },
  {
   "cell_type": "code",
   "execution_count": null,
   "metadata": {},
   "outputs": [],
   "source": []
  },
  {
   "cell_type": "code",
   "execution_count": null,
   "metadata": {},
   "outputs": [],
   "source": []
  },
  {
   "cell_type": "code",
   "execution_count": null,
   "metadata": {},
   "outputs": [],
   "source": []
  },
  {
   "cell_type": "code",
   "execution_count": 118,
   "metadata": {},
   "outputs": [
    {
     "name": "stdout",
     "output_type": "stream",
     "text": [
      "LR: 0.901270 (0.004639)\n",
      "LDA: 0.890101 (0.004855)\n",
      "KNN: 0.840623 (0.006085)\n",
      "DCT: 0.831556 (0.007005)\n",
      "NB: 0.889437 (0.004081)\n",
      "XGB: 0.950944 (0.002348)\n",
      "RF: 0.937530 (0.003976)\n",
      "CB: 0.955009 (0.002907)\n",
      "LGBM: 0.955261 (0.002824)\n",
      "EXTREE: 0.924903 (0.004051)\n"
     ]
    },
    {
     "data": {
      "image/png": "[encoded data removed]",
      "text/plain": [
       "<Figure size 640x480 with 1 Axes>"
      ]
     },
     "metadata": {},
     "output_type": "display_data"
    }
   ],
   "source": [
    "# prepare configuration for cross validation test harness\n",
    "seed = 7\n",
    "# prepare models\n",
    "models = []\n",
    "models.append(('LR', LogisticRegression()))\n",
    "models.append(('LDA', LinearDiscriminantAnalysis()))\n",
    "models.append(('KNN', KNeighborsClassifier()))\n",
    "models.append(('DCT', DecisionTreeClassifier()))\n",
    "models.append(('NB', GaussianNB()))\n",
    "models.append(('XGB', XGBClassifier()))\n",
    "models.append(('RF', RandomForestClassifier(n_estimators=200)))\n",
    "models.append(('CB', CatBoostClassifier(verbose= False)))\n",
    "models.append(('LGBM', LGBMClassifier(verbosity= -1)))\n",
    "models.append(('EXTREE', ExtraTreesClassifier(verbose= False)))\n",
    "##models.append(('SVM', SVC()))\n",
    "# evaluate each model in turn\n",
    "results = []\n",
    "names = []\n",
    "scoring = 'roc_auc' #'accuracy'\n",
    "for name, model in models:\n",
    "    kfold = model_selection.KFold(n_splits=10, random_state=None)\n",
    "    cv_results = model_selection.cross_val_score(model, X_encoded_scaled, y, cv=kfold, scoring=scoring)\n",
    "    results.append(cv_results)\n",
    "    names.append(name)\n",
    "    msg = \"%s: %f (%f)\" % (name, cv_results.mean(), cv_results.std())\n",
    "    print(msg)\n",
    "# boxplot algorithm comparison\n",
    "fig = plt.figure()\n",
    "fig.suptitle('Algorithm Comparison')\n",
    "ax = fig.add_subplot(111)\n",
    "plt.boxplot(results)\n",
    "ax.set_xticklabels(names)\n",
    "plt.show()"
   ]
  },
  {
   "cell_type": "code",
   "execution_count": 119,
   "metadata": {},
   "outputs": [
    {
     "name": "stderr",
     "output_type": "stream",
     "text": [
      "C:\\Users\\monas\\AppData\\Local\\Temp\\ipykernel_2176\\3611248776.py:17: UserWarning: set_ticklabels() should only be used with a fixed number of ticks, i.e. after set_ticks() or using a FixedLocator.\n",
      "  ax.set_xticklabels(names, rotation=15, fontsize=10)\n"
     ]
    },
    {
     "data": {
      "image/png": "[encoded data removed]",
      "text/plain": [
       "<Figure size 800x500 with 1 Axes>"
      ]
     },
     "metadata": {},
     "output_type": "display_data"
    },
    {
     "data": {
      "image/png": "[encoded data removed]",
      "text/plain": [
       "<Figure size 800x500 with 1 Axes>"
      ]
     },
     "metadata": {},
     "output_type": "display_data"
    }
   ],
   "source": [
    "import matplotlib.pyplot as plt\n",
    "import numpy as np\n",
    "\n",
    "# Example data (replace with actual results and names)\n",
    "#names = [\"Algo1\", \"Algo2\", \"Algo3\", \"Algo4\", \"Algo5\"]\n",
    "#results = [np.random.rand(10) for _ in names]  # Simulating results\n",
    "\n",
    "# Compute means and standard deviations\n",
    "means = [np.mean(r) for r in results]\n",
    "stds = [np.std(r) for r in results]\n",
    "\n",
    "# Attractive Bar Chart\n",
    "fig, ax = plt.subplots(figsize=(8, 5))\n",
    "ax.bar(names, means, yerr=stds, capsize=5, color='royalblue', alpha=0.7, edgecolor='black')\n",
    "ax.set_title('Algorithm Performance Comparison', fontsize=14, fontweight='bold')\n",
    "ax.set_ylabel('Performance Score', fontsize=12)\n",
    "ax.set_xticklabels(names, rotation=15, fontsize=10)\n",
    "ax.set_ylim(0.8, max(means) + 0.1)  # Set y-axis range\n",
    "ax.grid(axis='y', linestyle='--', alpha=0.6)\n",
    "plt.show()\n",
    "\n",
    "# Attractive Scatter Plot\n",
    "fig, ax = plt.subplots(figsize=(8, 5))\n",
    "for i, r in enumerate(results):\n",
    "    x_values = np.full(len(r), i + 1)  # Spreading data around each algorithm index\n",
    "    ax.scatter(x_values, r, color='darkorange', edgecolors='black', alpha=0.7, s=70)\n",
    "\n",
    "ax.set_xticks(range(1, len(names) + 1))\n",
    "ax.set_xticklabels(names, rotation=15, fontsize=10)\n",
    "ax.set_title('Algorithm Performance Distribution', fontsize=14, fontweight='bold')\n",
    "ax.set_ylabel('Performance Score', fontsize=12)\n",
    "ax.grid(axis='y', linestyle='--', alpha=0.6)\n",
    "plt.show()\n"
   ]
  },
  {
   "cell_type": "code",
   "execution_count": null,
   "metadata": {},
   "outputs": [],
   "source": []
  },
  {
   "cell_type": "code",
   "execution_count": 120,
   "metadata": {},
   "outputs": [
    {
     "name": "stderr",
     "output_type": "stream",
     "text": [
      "C:\\Users\\monas\\AppData\\Local\\Temp\\ipykernel_2176\\3670411989.py:17: UserWarning: set_ticklabels() should only be used with a fixed number of ticks, i.e. after set_ticks() or using a FixedLocator.\n",
      "  ax.set_xticklabels(names, rotation=15, fontsize=10)\n"
     ]
    },
    {
     "data": {
      "image/png": "[encoded data removed]",
      "text/plain": [
       "<Figure size 800x500 with 1 Axes>"
      ]
     },
     "metadata": {},
     "output_type": "display_data"
    }
   ],
   "source": [
    "import matplotlib.pyplot as plt\n",
    "import numpy as np\n",
    "\n",
    "# Example data (replace with actual results and names)\n",
    "#names = [\"Algo1\", \"Algo2\", \"Algo3\", \"Algo4\", \"Algo5\"]\n",
    "#results = [np.random.uniform(0.8, 1.0, 10) for _ in names]  # Simulating results within [0.8, 1.0]\n",
    "\n",
    "# Compute means and standard deviations\n",
    "means = [np.mean(r) for r in results]\n",
    "stds = [np.std(r) for r in results]\n",
    "\n",
    "# Attractive Bar Chart with Y-axis starting from 0.8\n",
    "fig, ax = plt.subplots(figsize=(8, 5))\n",
    "bars = ax.bar(names, means, yerr=stds, capsize=5, color='royalblue', alpha=0.7, edgecolor='black')\n",
    "ax.set_title('Algorithm Performance Comparison', fontsize=14, fontweight='bold')\n",
    "ax.set_ylabel('Performance Score', fontsize=12)\n",
    "ax.set_xticklabels(names, rotation=15, fontsize=10)\n",
    "ax.set_ylim(0.8, max(means) + 0.1)  # Set y-axis range\n",
    "\n",
    "# Highlight highest value\n",
    "max_value = max(means)\n",
    "max_index = means.index(max_value)\n",
    "bars[max_index].set_color('darkorange')\n",
    "\n",
    "# Adding text labels for highest value\n",
    "ax.text(max_index, max_value + 0.01, f'{max_value:.3f}', ha='center', fontsize=12, fontweight='bold', color='darkorange')\n",
    "\n",
    "# Adding a grid for better readability\n",
    "ax.grid(axis='y', linestyle='--', alpha=0.6)\n",
    "\n",
    "plt.show()\n"
   ]
  },
  {
   "cell_type": "code",
   "execution_count": null,
   "metadata": {},
   "outputs": [],
   "source": []
  },
  {
   "cell_type": "code",
   "execution_count": 121,
   "metadata": {},
   "outputs": [
    {
     "name": "stdout",
     "output_type": "stream",
     "text": [
      "            mean       std       min       max\n",
      "LR      0.901270  0.004890  0.894966  0.908943\n",
      "LDA     0.890101  0.005117  0.883807  0.900377\n",
      "KNN     0.840623  0.006414  0.830315  0.849610\n",
      "DCT     0.831556  0.007384  0.819178  0.840647\n",
      "NB      0.889437  0.004302  0.882373  0.896135\n",
      "XGB     0.950944  0.002475  0.946242  0.955635\n",
      "RF      0.937530  0.004191  0.931230  0.943895\n",
      "CB      0.955009  0.003065  0.948876  0.958203\n",
      "LGBM    0.955261  0.002977  0.949056  0.959646\n",
      "EXTREE  0.924903  0.004270  0.918225  0.930699\n"
     ]
    },
    {
     "data": {
      "text/html": [
       "<style type=\"text/css\">\n",
       "#T_22537_row8_col0, #T_22537_row8_col3 {\n",
       "  background-color: lightgreen;\n",
       "}\n",
       "</style>\n",
       "<table id=\"T_22537\">\n",
       "  <thead>\n",
       "    <tr>\n",
       "      <th class=\"blank level0\" >&nbsp;</th>\n",
       "      <th id=\"T_22537_level0_col0\" class=\"col_heading level0 col0\" >mean</th>\n",
       "      <th id=\"T_22537_level0_col1\" class=\"col_heading level0 col1\" >std</th>\n",
       "      <th id=\"T_22537_level0_col2\" class=\"col_heading level0 col2\" >min</th>\n",
       "      <th id=\"T_22537_level0_col3\" class=\"col_heading level0 col3\" >max</th>\n",
       "    </tr>\n",
       "  </thead>\n",
       "  <tbody>\n",
       "    <tr>\n",
       "      <th id=\"T_22537_level0_row0\" class=\"row_heading level0 row0\" >LR</th>\n",
       "      <td id=\"T_22537_row0_col0\" class=\"data row0 col0\" >0.901</td>\n",
       "      <td id=\"T_22537_row0_col1\" class=\"data row0 col1\" >0.005</td>\n",
       "      <td id=\"T_22537_row0_col2\" class=\"data row0 col2\" >0.895</td>\n",
       "      <td id=\"T_22537_row0_col3\" class=\"data row0 col3\" >0.909</td>\n",
       "    </tr>\n",
       "    <tr>\n",
       "      <th id=\"T_22537_level0_row1\" class=\"row_heading level0 row1\" >LDA</th>\n",
       "      <td id=\"T_22537_row1_col0\" class=\"data row1 col0\" >0.890</td>\n",
       "      <td id=\"T_22537_row1_col1\" class=\"data row1 col1\" >0.005</td>\n",
       "      <td id=\"T_22537_row1_col2\" class=\"data row1 col2\" >0.884</td>\n",
       "      <td id=\"T_22537_row1_col3\" class=\"data row1 col3\" >0.900</td>\n",
       "    </tr>\n",
       "    <tr>\n",
       "      <th id=\"T_22537_level0_row2\" class=\"row_heading level0 row2\" >KNN</th>\n",
       "      <td id=\"T_22537_row2_col0\" class=\"data row2 col0\" >0.841</td>\n",
       "      <td id=\"T_22537_row2_col1\" class=\"data row2 col1\" >0.006</td>\n",
       "      <td id=\"T_22537_row2_col2\" class=\"data row2 col2\" >0.830</td>\n",
       "      <td id=\"T_22537_row2_col3\" class=\"data row2 col3\" >0.850</td>\n",
       "    </tr>\n",
       "    <tr>\n",
       "      <th id=\"T_22537_level0_row3\" class=\"row_heading level0 row3\" >DCT</th>\n",
       "      <td id=\"T_22537_row3_col0\" class=\"data row3 col0\" >0.832</td>\n",
       "      <td id=\"T_22537_row3_col1\" class=\"data row3 col1\" >0.007</td>\n",
       "      <td id=\"T_22537_row3_col2\" class=\"data row3 col2\" >0.819</td>\n",
       "      <td id=\"T_22537_row3_col3\" class=\"data row3 col3\" >0.841</td>\n",
       "    </tr>\n",
       "    <tr>\n",
       "      <th id=\"T_22537_level0_row4\" class=\"row_heading level0 row4\" >NB</th>\n",
       "      <td id=\"T_22537_row4_col0\" class=\"data row4 col0\" >0.889</td>\n",
       "      <td id=\"T_22537_row4_col1\" class=\"data row4 col1\" >0.004</td>\n",
       "      <td id=\"T_22537_row4_col2\" class=\"data row4 col2\" >0.882</td>\n",
       "      <td id=\"T_22537_row4_col3\" class=\"data row4 col3\" >0.896</td>\n",
       "    </tr>\n",
       "    <tr>\n",
       "      <th id=\"T_22537_level0_row5\" class=\"row_heading level0 row5\" >XGB</th>\n",
       "      <td id=\"T_22537_row5_col0\" class=\"data row5 col0\" >0.951</td>\n",
       "      <td id=\"T_22537_row5_col1\" class=\"data row5 col1\" >0.002</td>\n",
       "      <td id=\"T_22537_row5_col2\" class=\"data row5 col2\" >0.946</td>\n",
       "      <td id=\"T_22537_row5_col3\" class=\"data row5 col3\" >0.956</td>\n",
       "    </tr>\n",
       "    <tr>\n",
       "      <th id=\"T_22537_level0_row6\" class=\"row_heading level0 row6\" >RF</th>\n",
       "      <td id=\"T_22537_row6_col0\" class=\"data row6 col0\" >0.938</td>\n",
       "      <td id=\"T_22537_row6_col1\" class=\"data row6 col1\" >0.004</td>\n",
       "      <td id=\"T_22537_row6_col2\" class=\"data row6 col2\" >0.931</td>\n",
       "      <td id=\"T_22537_row6_col3\" class=\"data row6 col3\" >0.944</td>\n",
       "    </tr>\n",
       "    <tr>\n",
       "      <th id=\"T_22537_level0_row7\" class=\"row_heading level0 row7\" >CB</th>\n",
       "      <td id=\"T_22537_row7_col0\" class=\"data row7 col0\" >0.955</td>\n",
       "      <td id=\"T_22537_row7_col1\" class=\"data row7 col1\" >0.003</td>\n",
       "      <td id=\"T_22537_row7_col2\" class=\"data row7 col2\" >0.949</td>\n",
       "      <td id=\"T_22537_row7_col3\" class=\"data row7 col3\" >0.958</td>\n",
       "    </tr>\n",
       "    <tr>\n",
       "      <th id=\"T_22537_level0_row8\" class=\"row_heading level0 row8\" >LGBM</th>\n",
       "      <td id=\"T_22537_row8_col0\" class=\"data row8 col0\" >0.955</td>\n",
       "      <td id=\"T_22537_row8_col1\" class=\"data row8 col1\" >0.003</td>\n",
       "      <td id=\"T_22537_row8_col2\" class=\"data row8 col2\" >0.949</td>\n",
       "      <td id=\"T_22537_row8_col3\" class=\"data row8 col3\" >0.960</td>\n",
       "    </tr>\n",
       "    <tr>\n",
       "      <th id=\"T_22537_level0_row9\" class=\"row_heading level0 row9\" >EXTREE</th>\n",
       "      <td id=\"T_22537_row9_col0\" class=\"data row9 col0\" >0.925</td>\n",
       "      <td id=\"T_22537_row9_col1\" class=\"data row9 col1\" >0.004</td>\n",
       "      <td id=\"T_22537_row9_col2\" class=\"data row9 col2\" >0.918</td>\n",
       "      <td id=\"T_22537_row9_col3\" class=\"data row9 col3\" >0.931</td>\n",
       "    </tr>\n",
       "  </tbody>\n",
       "</table>\n"
      ],
      "text/plain": [
       "<pandas.io.formats.style.Styler at 0x28d30ac5f70>"
      ]
     },
     "execution_count": 121,
     "metadata": {},
     "output_type": "execute_result"
    }
   ],
   "source": [
    "import numpy as np\n",
    "import pandas as pd\n",
    "import matplotlib.pyplot as plt\n",
    "\n",
    "# Example data: 5 algorithms with 10 results each\n",
    "#names = [\"Algo1\", \"Algo2\", \"Algo3\", \"Algo4\", \"Algo5\"]\n",
    "#results = [np.random.uniform(0.8, 1.0, 10) for _ in names]  # Simulated results\n",
    "\n",
    "# Compute mean, standard deviation, min, and max\n",
    "df = pd.DataFrame(results, index=names).T\n",
    "df_summary = df.agg([\"mean\", \"std\", \"min\", \"max\"]).T\n",
    "\n",
    "# Highlight highest values\n",
    "def highlight_max(s):\n",
    "    is_max = s == s.max()\n",
    "    return [\"background-color: lightgreen\" if v else \"\" for v in is_max]\n",
    "\n",
    "# Style the table\n",
    "styled_table = df_summary.style.apply(highlight_max, subset=[\"mean\", \"max\"]).format(precision=3)\n",
    "\n",
    "# Display table\n",
    "print(df_summary)  # Prints in console\n",
    "styled_table  # Displays in Jupyter Notebook\n"
   ]
  },
  {
   "cell_type": "code",
   "execution_count": 122,
   "metadata": {},
   "outputs": [
    {
     "data": {
      "image/png": "[encoded data removed]",
      "text/plain": [
       "<Figure size 600x400 with 1 Axes>"
      ]
     },
     "metadata": {},
     "output_type": "display_data"
    }
   ],
   "source": [
    "import numpy as np\n",
    "import pandas as pd\n",
    "import matplotlib.pyplot as plt\n",
    "import seaborn as sns\n",
    "\n",
    "# Example data: 5 algorithms with 10 results each\n",
    "#names = [\"Algo1\", \"Algo2\", \"Algo3\", \"Algo4\", \"Algo5\"]\n",
    "#results = [np.random.uniform(0.8, 1.0, 10) for _ in names]  # Simulated results\n",
    "\n",
    "# Compute statistics: mean, std, min, max\n",
    "df = pd.DataFrame(results, index=names).T\n",
    "df_summary = df.agg([\"mean\", \"std\", \"min\", \"max\"]).T\n",
    "\n",
    "# Find the highest values\n",
    "highest_mean = df_summary[\"mean\"].idxmax()\n",
    "highest_max = df_summary[\"max\"].idxmax()\n",
    "\n",
    "# Create a figure and axis\n",
    "fig, ax = plt.subplots(figsize=(6, 4))\n",
    "ax.set_axis_off()\n",
    "\n",
    "# Create a table\n",
    "table = ax.table(\n",
    "    cellText=df_summary.round(4).values,  # Rounded values\n",
    "    colLabels=df_summary.columns,\n",
    "    rowLabels=df_summary.index,\n",
    "    cellLoc=\"center\",\n",
    "    loc=\"center\",\n",
    "    colColours=[\"#f2f2f2\"] * len(df_summary.columns),  # Header background color\n",
    ")\n",
    "\n",
    "# Style the table\n",
    "for i, key in enumerate(df_summary.index):\n",
    "    if key == highest_mean:\n",
    "        table[i + 1, 0].set_facecolor(\"lightgreen\")  # Highlight highest mean\n",
    "    if key == highest_max:\n",
    "        table[i + 1, 3].set_facecolor(\"lightgreen\")  # Highlight highest max\n",
    "\n",
    "# Improve appearance\n",
    "table.scale(1.2, 1.2)  # Scale table size\n",
    "table.auto_set_font_size(False)\n",
    "table.set_fontsize(10)\n",
    "\n",
    "plt.title(\"Algorithm Performance Comparison\", fontsize=12, fontweight=\"bold\")\n",
    "plt.show()\n"
   ]
  },
  {
   "cell_type": "code",
   "execution_count": null,
   "metadata": {},
   "outputs": [],
   "source": []
  },
  {
   "cell_type": "code",
   "execution_count": 123,
   "metadata": {},
   "outputs": [
    {
     "name": "stdout",
     "output_type": "stream",
     "text": [
      "LR: 0.901270 (0.004639)\n",
      "LDA: 0.890101 (0.004855)\n",
      "KNN: 0.840623 (0.006085)\n",
      "DCT: 0.831112 (0.006359)\n",
      "NB: 0.889437 (0.004081)\n",
      "XGB: 0.950944 (0.002348)\n",
      "RF: 0.938134 (0.003726)\n",
      "CB: 0.955009 (0.002907)\n",
      "LGBM: 0.955261 (0.002824)\n",
      "EXTREE: 0.924025 (0.004641)\n",
      "SVM: 0.868862 (0.007646)\n"
     ]
    },
    {
     "data": {
      "image/png": "[encoded data removed]",
      "text/plain": [
       "<Figure size 640x480 with 1 Axes>"
      ]
     },
     "metadata": {},
     "output_type": "display_data"
    }
   ],
   "source": [
    "# prepare configuration for cross validation test harness\n",
    "# prepare models\n",
    "models = []\n",
    "models.append(('LR', LogisticRegression()))\n",
    "models.append(('LDA', LinearDiscriminantAnalysis()))\n",
    "models.append(('KNN', KNeighborsClassifier()))\n",
    "models.append(('DCT', DecisionTreeClassifier()))\n",
    "models.append(('NB', GaussianNB()))\n",
    "models.append(('XGB', XGBClassifier()))\n",
    "models.append(('RF', RandomForestClassifier(n_estimators=200)))\n",
    "models.append(('CB', CatBoostClassifier(verbose= False)))\n",
    "models.append(('LGBM', LGBMClassifier(verbosity= -1)))\n",
    "models.append(('EXTREE', ExtraTreesClassifier(verbose= False)))\n",
    "models.append(('SVM', SVC()))\n",
    "# evaluate each model in turn\n",
    "results = []\n",
    "names = []\n",
    "scoring = 'roc_auc'\n",
    "for name, model in models:\n",
    "    kfold = model_selection.KFold(n_splits=10, random_state=None)\n",
    "    cv_results = model_selection.cross_val_score(model, X_encoded_scaled, y, cv=kfold, scoring=scoring)\n",
    "    results.append(cv_results)\n",
    "    names.append(name)\n",
    "    msg = \"%s: %f (%f)\" % (name, cv_results.mean(), cv_results.std())\n",
    "    print(msg)\n",
    "# boxplot algorithm comparison\n",
    "fig = plt.figure()\n",
    "fig.suptitle('Algorithm Comparison')\n",
    "ax = fig.add_subplot(111)\n",
    "plt.boxplot(results)\n",
    "ax.set_xticklabels(names)\n",
    "plt.show()"
   ]
  },
  {
   "cell_type": "code",
   "execution_count": null,
   "metadata": {},
   "outputs": [],
   "source": []
  },
  {
   "cell_type": "code",
   "execution_count": 124,
   "metadata": {},
   "outputs": [],
   "source": [
    "## For Validation Set"
   ]
  },
  {
   "cell_type": "code",
   "execution_count": 126,
   "metadata": {},
   "outputs": [
    {
     "ename": "NameError",
     "evalue": "name 'y_test' is not defined",
     "output_type": "error",
     "traceback": [
      "\u001b[1;31m---------------------------------------------------------------------------\u001b[0m",
      "\u001b[1;31mNameError\u001b[0m                                 Traceback (most recent call last)",
      "Cell \u001b[1;32mIn[126], line 13\u001b[0m\n\u001b[0;32m     10\u001b[0m y_pred_proba \u001b[38;5;241m=\u001b[39m model\u001b[38;5;241m.\u001b[39mpredict_proba(X_test_encoded)[:, \u001b[38;5;241m1\u001b[39m] \u001b[38;5;28;01mif\u001b[39;00m \u001b[38;5;28mhasattr\u001b[39m(model, \u001b[38;5;124m\"\u001b[39m\u001b[38;5;124mpredict_proba\u001b[39m\u001b[38;5;124m\"\u001b[39m) \u001b[38;5;28;01melse\u001b[39;00m \u001b[38;5;28;01mNone\u001b[39;00m  \u001b[38;5;66;03m# Probabilities (if applicable)\u001b[39;00m\n\u001b[0;32m     12\u001b[0m \u001b[38;5;66;03m# Compute metrics\u001b[39;00m\n\u001b[1;32m---> 13\u001b[0m auc \u001b[38;5;241m=\u001b[39m roc_auc_score(y_test, y_pred_proba) \u001b[38;5;28;01mif\u001b[39;00m y_pred_proba \u001b[38;5;129;01mis\u001b[39;00m \u001b[38;5;129;01mnot\u001b[39;00m \u001b[38;5;28;01mNone\u001b[39;00m \u001b[38;5;28;01melse\u001b[39;00m \u001b[38;5;28;01mNone\u001b[39;00m\n\u001b[0;32m     14\u001b[0m acc \u001b[38;5;241m=\u001b[39m accuracy_score(y_test, y_pred)\n\u001b[0;32m     16\u001b[0m \u001b[38;5;66;03m# Store results\u001b[39;00m\n",
      "\u001b[1;31mNameError\u001b[0m: name 'y_test' is not defined"
     ]
    }
   ],
   "source": [
    "from sklearn.metrics import roc_auc_score, accuracy_score\n",
    "\n",
    "# Create a dictionary to store test set performance\n",
    "test_results = {}\n",
    "\n",
    "# Iterate over trained models and evaluate on test data\n",
    "for name, model in models:\n",
    "    model.fit(X_encoded_scaled, y)  # Train the model on full training set\n",
    "    y_pred = model.predict(X_test_encoded)  # Predictions on test set\n",
    "    y_pred_proba = model.predict_proba(X_test_encoded)[:, 1] if hasattr(model, \"predict_proba\") else None  # Probabilities (if applicable)\n",
    "\n",
    "    # Compute metrics\n",
    "    auc = roc_auc_score(y_test, y_pred_proba) if y_pred_proba is not None else None\n",
    "    acc = accuracy_score(y_test, y_pred)\n",
    "\n",
    "    # Store results\n",
    "    test_results[name] = {'Accuracy': acc, 'ROC AUC': auc if auc else \"N/A\"}\n",
    "\n",
    "    # Print results\n",
    "    print(f\"{name}: Accuracy={acc:.4f}, ROC AUC={auc:.4f}\" if auc else f\"{name}: Accuracy={acc:.4f}\")\n",
    "\n",
    "# Convert to DataFrame for easy visualization\n",
    "import pandas as pd\n",
    "test_results_df = pd.DataFrame(test_results).T\n",
    "print(test_results_df)\n"
   ]
  },
  {
   "cell_type": "code",
   "execution_count": null,
   "metadata": {},
   "outputs": [],
   "source": []
  },
  {
   "cell_type": "code",
   "execution_count": 142,
   "metadata": {},
   "outputs": [
    {
     "data": {
      "text/html": [
       "<div>\n",
       "<style scoped>\n",
       "    .dataframe tbody tr th:only-of-type {\n",
       "        vertical-align: middle;\n",
       "    }\n",
       "\n",
       "    .dataframe tbody tr th {\n",
       "        vertical-align: top;\n",
       "    }\n",
       "\n",
       "    .dataframe thead th {\n",
       "        text-align: right;\n",
       "    }\n",
       "</style>\n",
       "<table border=\"1\" class=\"dataframe\">\n",
       "  <thead>\n",
       "    <tr style=\"text-align: right;\">\n",
       "      <th></th>\n",
       "      <th>id</th>\n",
       "      <th>person_age</th>\n",
       "      <th>person_income</th>\n",
       "      <th>person_home_ownership</th>\n",
       "      <th>person_emp_length</th>\n",
       "      <th>loan_intent</th>\n",
       "      <th>loan_grade</th>\n",
       "      <th>loan_amnt</th>\n",
       "      <th>loan_int_rate</th>\n",
       "      <th>loan_percent_income</th>\n",
       "      <th>cb_person_default_on_file</th>\n",
       "      <th>cb_person_cred_hist_length</th>\n",
       "      <th>income_loan_ratio</th>\n",
       "      <th>person_emp_length_to_person_age</th>\n",
       "      <th>int_rate_income_ratio</th>\n",
       "      <th>cred_hist_age_ratio</th>\n",
       "      <th>loan_percent_income_to_income</th>\n",
       "      <th>person_age_to_person_income</th>\n",
       "      <th>loan_int_rate_to_loan_amnt</th>\n",
       "    </tr>\n",
       "  </thead>\n",
       "  <tbody>\n",
       "    <tr>\n",
       "      <th>0</th>\n",
       "      <td>58645</td>\n",
       "      <td>23</td>\n",
       "      <td>69000</td>\n",
       "      <td>RENT</td>\n",
       "      <td>3.0</td>\n",
       "      <td>HOMEIMPROVEMENT</td>\n",
       "      <td>F</td>\n",
       "      <td>25000</td>\n",
       "      <td>15.76</td>\n",
       "      <td>0.36</td>\n",
       "      <td>N</td>\n",
       "      <td>2</td>\n",
       "      <td>2.760000</td>\n",
       "      <td>0.130435</td>\n",
       "      <td>0.000228</td>\n",
       "      <td>0.086957</td>\n",
       "      <td>0.000005</td>\n",
       "      <td>0.000333</td>\n",
       "      <td>0.000630</td>\n",
       "    </tr>\n",
       "    <tr>\n",
       "      <th>1</th>\n",
       "      <td>58646</td>\n",
       "      <td>26</td>\n",
       "      <td>96000</td>\n",
       "      <td>MORTGAGE</td>\n",
       "      <td>6.0</td>\n",
       "      <td>PERSONAL</td>\n",
       "      <td>C</td>\n",
       "      <td>10000</td>\n",
       "      <td>12.68</td>\n",
       "      <td>0.10</td>\n",
       "      <td>Y</td>\n",
       "      <td>4</td>\n",
       "      <td>9.600000</td>\n",
       "      <td>0.230769</td>\n",
       "      <td>0.000132</td>\n",
       "      <td>0.153846</td>\n",
       "      <td>0.000001</td>\n",
       "      <td>0.000271</td>\n",
       "      <td>0.001268</td>\n",
       "    </tr>\n",
       "    <tr>\n",
       "      <th>2</th>\n",
       "      <td>58647</td>\n",
       "      <td>26</td>\n",
       "      <td>30000</td>\n",
       "      <td>RENT</td>\n",
       "      <td>5.0</td>\n",
       "      <td>VENTURE</td>\n",
       "      <td>E</td>\n",
       "      <td>4000</td>\n",
       "      <td>17.19</td>\n",
       "      <td>0.13</td>\n",
       "      <td>Y</td>\n",
       "      <td>2</td>\n",
       "      <td>7.500000</td>\n",
       "      <td>0.192308</td>\n",
       "      <td>0.000573</td>\n",
       "      <td>0.076923</td>\n",
       "      <td>0.000004</td>\n",
       "      <td>0.000867</td>\n",
       "      <td>0.004298</td>\n",
       "    </tr>\n",
       "    <tr>\n",
       "      <th>3</th>\n",
       "      <td>58648</td>\n",
       "      <td>33</td>\n",
       "      <td>50000</td>\n",
       "      <td>RENT</td>\n",
       "      <td>4.0</td>\n",
       "      <td>DEBTCONSOLIDATION</td>\n",
       "      <td>A</td>\n",
       "      <td>7000</td>\n",
       "      <td>8.90</td>\n",
       "      <td>0.14</td>\n",
       "      <td>N</td>\n",
       "      <td>7</td>\n",
       "      <td>7.142857</td>\n",
       "      <td>0.121212</td>\n",
       "      <td>0.000178</td>\n",
       "      <td>0.212121</td>\n",
       "      <td>0.000003</td>\n",
       "      <td>0.000660</td>\n",
       "      <td>0.001271</td>\n",
       "    </tr>\n",
       "    <tr>\n",
       "      <th>4</th>\n",
       "      <td>58649</td>\n",
       "      <td>26</td>\n",
       "      <td>102000</td>\n",
       "      <td>MORTGAGE</td>\n",
       "      <td>8.0</td>\n",
       "      <td>HOMEIMPROVEMENT</td>\n",
       "      <td>D</td>\n",
       "      <td>15000</td>\n",
       "      <td>16.32</td>\n",
       "      <td>0.15</td>\n",
       "      <td>Y</td>\n",
       "      <td>4</td>\n",
       "      <td>6.800000</td>\n",
       "      <td>0.307692</td>\n",
       "      <td>0.000160</td>\n",
       "      <td>0.153846</td>\n",
       "      <td>0.000001</td>\n",
       "      <td>0.000255</td>\n",
       "      <td>0.001088</td>\n",
       "    </tr>\n",
       "  </tbody>\n",
       "</table>\n",
       "</div>"
      ],
      "text/plain": [
       "      id  person_age  person_income person_home_ownership  person_emp_length  \\\n",
       "0  58645          23          69000                  RENT                3.0   \n",
       "1  58646          26          96000              MORTGAGE                6.0   \n",
       "2  58647          26          30000                  RENT                5.0   \n",
       "3  58648          33          50000                  RENT                4.0   \n",
       "4  58649          26         102000              MORTGAGE                8.0   \n",
       "\n",
       "         loan_intent loan_grade  loan_amnt  loan_int_rate  \\\n",
       "0    HOMEIMPROVEMENT          F      25000          15.76   \n",
       "1           PERSONAL          C      10000          12.68   \n",
       "2            VENTURE          E       4000          17.19   \n",
       "3  DEBTCONSOLIDATION          A       7000           8.90   \n",
       "4    HOMEIMPROVEMENT          D      15000          16.32   \n",
       "\n",
       "   loan_percent_income cb_person_default_on_file  cb_person_cred_hist_length  \\\n",
       "0                 0.36                         N                           2   \n",
       "1                 0.10                         Y                           4   \n",
       "2                 0.13                         Y                           2   \n",
       "3                 0.14                         N                           7   \n",
       "4                 0.15                         Y                           4   \n",
       "\n",
       "   income_loan_ratio  person_emp_length_to_person_age  int_rate_income_ratio  \\\n",
       "0           2.760000                         0.130435               0.000228   \n",
       "1           9.600000                         0.230769               0.000132   \n",
       "2           7.500000                         0.192308               0.000573   \n",
       "3           7.142857                         0.121212               0.000178   \n",
       "4           6.800000                         0.307692               0.000160   \n",
       "\n",
       "   cred_hist_age_ratio  loan_percent_income_to_income  \\\n",
       "0             0.086957                       0.000005   \n",
       "1             0.153846                       0.000001   \n",
       "2             0.076923                       0.000004   \n",
       "3             0.212121                       0.000003   \n",
       "4             0.153846                       0.000001   \n",
       "\n",
       "   person_age_to_person_income  loan_int_rate_to_loan_amnt  \n",
       "0                     0.000333                    0.000630  \n",
       "1                     0.000271                    0.001268  \n",
       "2                     0.000867                    0.004298  \n",
       "3                     0.000660                    0.001271  \n",
       "4                     0.000255                    0.001088  "
      ]
     },
     "execution_count": 142,
     "metadata": {},
     "output_type": "execute_result"
    }
   ],
   "source": [
    "df_test.head()"
   ]
  },
  {
   "cell_type": "code",
   "execution_count": null,
   "metadata": {},
   "outputs": [],
   "source": []
  },
  {
   "cell_type": "code",
   "execution_count": 128,
   "metadata": {
    "id": "SkMI-0GXhat3"
   },
   "outputs": [],
   "source": [
    "# Initialize Stratified K-Fold\n",
    "skf = StratifiedKFold(n_splits=5, shuffle=True, random_state=42)\n"
   ]
  },
  {
   "cell_type": "code",
   "execution_count": 129,
   "metadata": {
    "id": "ufmb1bENll7G"
   },
   "outputs": [],
   "source": [
    "# Prepare arrays for out-of-fold predictions\n",
    "oof_preds = np.zeros(X.shape[0])\n",
    "test_preds = np.zeros(df_test.shape[0])"
   ]
  },
  {
   "cell_type": "code",
   "execution_count": 130,
   "metadata": {
    "id": "Rw0WzvHSh1ot"
   },
   "outputs": [],
   "source": [
    "# Define objective function for Optuna\n",
    "def objective(trial):\n",
    "    aucs = []\n",
    "    for train_index, valid_index in skf.split(X, y):\n",
    "        X_train_fold, X_valid_fold = X.iloc[train_index], X.iloc[valid_index]\n",
    "        y_train_fold, y_valid_fold = y.iloc[train_index], y.iloc[valid_index]\n",
    "\n",
    "        # Target Encoding\n",
    "        X_train_fold = target_enc.fit_transform(X_train_fold, y_train_fold)\n",
    "        X_valid_fold = target_enc.transform(X_valid_fold)\n",
    "        X_test_enc = target_enc.transform(df_test)\n",
    "\n",
    "        # Handle class imbalance with SMOTE\n",
    "        sm = SMOTE(random_state=42)\n",
    "        X_resampled, y_resampled = sm.fit_resample(X_train_fold, y_train_fold)\n",
    "\n",
    "        #X_resampled, y_resampled = X_train_fold, y_train_fold\n",
    "        \n",
    "        # Scale numerical features\n",
    "        scaler = StandardScaler()\n",
    "        X_resampled[numerical_features] = scaler.fit_transform(X_resampled[numerical_features])\n",
    "        X_valid_fold[numerical_features] = scaler.transform(X_valid_fold[numerical_features])\n",
    "        X_test_enc[numerical_features] = scaler.transform(X_test_enc[numerical_features])\n",
    "\n",
    "        # Define LightGBM parameters using new suggest methods\n",
    "        param = {\n",
    "            'objective': 'binary',\n",
    "            'metric': 'auc',\n",
    "            'boosting_type': 'gbdt',\n",
    "            'learning_rate': trial.suggest_float('learning_rate', 0.005, 0.1, log=True),\n",
    "            'num_leaves': trial.suggest_int('num_leaves', 20, 300),\n",
    "            'max_depth': trial.suggest_int('max_depth', 3, 20),\n",
    "            'min_child_samples': trial.suggest_int('min_child_samples', 5, 100),\n",
    "            'subsample': trial.suggest_float('subsample', 0.4, 1.0),\n",
    "            'colsample_bytree': trial.suggest_float('colsample_bytree', 0.4, 1.0),\n",
    "            'reg_alpha': trial.suggest_float('reg_alpha', 1e-4, 10.0, log=True),\n",
    "            'reg_lambda': trial.suggest_float('reg_lambda', 1e-4, 10.0, log=True),\n",
    "            'random_state': 42,\n",
    "            'verbosity': -1,\n",
    "            'n_jobs': -1,\n",
    "            #'device': 'cuda',\n",
    "        }\n",
    "\n",
    "        lgb_train = lgb.Dataset(X_resampled, y_resampled)\n",
    "        lgb_valid = lgb.Dataset(X_valid_fold, y_valid_fold, reference=lgb_train)\n",
    "\n",
    "        # Use early_stopping and log_evaluation as callbacks\n",
    "        pruning_callback = LightGBMPruningCallback(trial, 'auc')\n",
    "        early_stopping_callback = lgb.early_stopping(stopping_rounds=100, verbose=False)\n",
    "        log_eval_callback = lgb.log_evaluation(period=0)  # Suppress logging during optimization\n",
    "\n",
    "        callbacks = [pruning_callback, early_stopping_callback, log_eval_callback]\n",
    "\n",
    "        # Include valid_names to ensure the validation dataset is named 'valid_0'\n",
    "        gbm = lgb.train(\n",
    "            param,\n",
    "            lgb_train,\n",
    "            num_boost_round=10000,\n",
    "            valid_sets=[lgb_train, lgb_valid],\n",
    "            valid_names=['training', 'valid_0'],  # Specify names here\n",
    "            callbacks=callbacks\n",
    "        )\n",
    "\n",
    "        y_valid_pred = gbm.predict(X_valid_fold, num_iteration=gbm.best_iteration)\n",
    "        auc = roc_auc_score(y_valid_fold, y_valid_pred)\n",
    "        aucs.append(auc)\n",
    "\n",
    "    return np.mean(aucs)"
   ]
  },
  {
   "cell_type": "code",
   "execution_count": 131,
   "metadata": {
    "colab": {
     "base_uri": "https://localhost:8080/"
    },
    "id": "IIYW33cIh3G-",
    "outputId": "c0825d63-7e2c-4f52-d54a-1ca3bab1537f"
   },
   "outputs": [
    {
     "name": "stderr",
     "output_type": "stream",
     "text": [
      "[I 2025-04-10 14:29:07,747] A new study created in memory with name: lgbm_classifier\n",
      "[W 2025-04-10 14:29:08,003] Trial 0 failed with parameters: {} because of the following error: ValueError('Unexpected input dimension 19, expected 18').\n",
      "Traceback (most recent call last):\n",
      "  File \"C:\\Users\\monas\\anaconda3\\Lib\\site-packages\\optuna\\study\\_optimize.py\", line 197, in _run_trial\n",
      "    value_or_values = func(trial)\n",
      "                      ^^^^^^^^^^^\n",
      "  File \"C:\\Users\\monas\\AppData\\Local\\Temp\\ipykernel_2176\\3608995150.py\", line 11, in objective\n",
      "    X_test_enc = target_enc.transform(df_test)\n",
      "                 ^^^^^^^^^^^^^^^^^^^^^^^^^^^^^\n",
      "  File \"C:\\Users\\monas\\anaconda3\\Lib\\site-packages\\sklearn\\utils\\_set_output.py\", line 295, in wrapped\n",
      "    data_to_wrap = f(self, X, *args, **kwargs)\n",
      "                   ^^^^^^^^^^^^^^^^^^^^^^^^^^^\n",
      "  File \"C:\\Users\\monas\\anaconda3\\Lib\\site-packages\\category_encoders\\utils.py\", line 450, in transform\n",
      "    self._check_transform_inputs(X)\n",
      "  File \"C:\\Users\\monas\\anaconda3\\Lib\\site-packages\\category_encoders\\utils.py\", line 353, in _check_transform_inputs\n",
      "    raise ValueError(f'Unexpected input dimension {X.shape[1]}, expected {self._dim}')\n",
      "ValueError: Unexpected input dimension 19, expected 18\n",
      "[W 2025-04-10 14:29:08,029] Trial 0 failed with value None.\n"
     ]
    },
    {
     "ename": "ValueError",
     "evalue": "Unexpected input dimension 19, expected 18",
     "output_type": "error",
     "traceback": [
      "\u001b[1;31m---------------------------------------------------------------------------\u001b[0m",
      "\u001b[1;31mValueError\u001b[0m                                Traceback (most recent call last)",
      "Cell \u001b[1;32mIn[131], line 3\u001b[0m\n\u001b[0;32m      1\u001b[0m \u001b[38;5;66;03m# Optimize hyperparameters using Optuna\u001b[39;00m\n\u001b[0;32m      2\u001b[0m study \u001b[38;5;241m=\u001b[39m optuna\u001b[38;5;241m.\u001b[39mcreate_study(direction\u001b[38;5;241m=\u001b[39m\u001b[38;5;124m'\u001b[39m\u001b[38;5;124mmaximize\u001b[39m\u001b[38;5;124m'\u001b[39m, study_name\u001b[38;5;241m=\u001b[39m\u001b[38;5;124m'\u001b[39m\u001b[38;5;124mlgbm_classifier\u001b[39m\u001b[38;5;124m'\u001b[39m)\n\u001b[1;32m----> 3\u001b[0m study\u001b[38;5;241m.\u001b[39moptimize(objective, n_trials\u001b[38;5;241m=\u001b[39m\u001b[38;5;241m50\u001b[39m)\n",
      "File \u001b[1;32m~\\anaconda3\\Lib\\site-packages\\optuna\\study\\study.py:475\u001b[0m, in \u001b[0;36mStudy.optimize\u001b[1;34m(self, func, n_trials, timeout, n_jobs, catch, callbacks, gc_after_trial, show_progress_bar)\u001b[0m\n\u001b[0;32m    373\u001b[0m \u001b[38;5;28;01mdef\u001b[39;00m \u001b[38;5;21moptimize\u001b[39m(\n\u001b[0;32m    374\u001b[0m     \u001b[38;5;28mself\u001b[39m,\n\u001b[0;32m    375\u001b[0m     func: ObjectiveFuncType,\n\u001b[1;32m   (...)\u001b[0m\n\u001b[0;32m    382\u001b[0m     show_progress_bar: \u001b[38;5;28mbool\u001b[39m \u001b[38;5;241m=\u001b[39m \u001b[38;5;28;01mFalse\u001b[39;00m,\n\u001b[0;32m    383\u001b[0m ) \u001b[38;5;241m-\u001b[39m\u001b[38;5;241m>\u001b[39m \u001b[38;5;28;01mNone\u001b[39;00m:\n\u001b[0;32m    384\u001b[0m \u001b[38;5;250m    \u001b[39m\u001b[38;5;124;03m\"\"\"Optimize an objective function.\u001b[39;00m\n\u001b[0;32m    385\u001b[0m \n\u001b[0;32m    386\u001b[0m \u001b[38;5;124;03m    Optimization is done by choosing a suitable set of hyperparameter values from a given\u001b[39;00m\n\u001b[1;32m   (...)\u001b[0m\n\u001b[0;32m    473\u001b[0m \u001b[38;5;124;03m            If nested invocation of this method occurs.\u001b[39;00m\n\u001b[0;32m    474\u001b[0m \u001b[38;5;124;03m    \"\"\"\u001b[39;00m\n\u001b[1;32m--> 475\u001b[0m     _optimize(\n\u001b[0;32m    476\u001b[0m         study\u001b[38;5;241m=\u001b[39m\u001b[38;5;28mself\u001b[39m,\n\u001b[0;32m    477\u001b[0m         func\u001b[38;5;241m=\u001b[39mfunc,\n\u001b[0;32m    478\u001b[0m         n_trials\u001b[38;5;241m=\u001b[39mn_trials,\n\u001b[0;32m    479\u001b[0m         timeout\u001b[38;5;241m=\u001b[39mtimeout,\n\u001b[0;32m    480\u001b[0m         n_jobs\u001b[38;5;241m=\u001b[39mn_jobs,\n\u001b[0;32m    481\u001b[0m         catch\u001b[38;5;241m=\u001b[39m\u001b[38;5;28mtuple\u001b[39m(catch) \u001b[38;5;28;01mif\u001b[39;00m \u001b[38;5;28misinstance\u001b[39m(catch, Iterable) \u001b[38;5;28;01melse\u001b[39;00m (catch,),\n\u001b[0;32m    482\u001b[0m         callbacks\u001b[38;5;241m=\u001b[39mcallbacks,\n\u001b[0;32m    483\u001b[0m         gc_after_trial\u001b[38;5;241m=\u001b[39mgc_after_trial,\n\u001b[0;32m    484\u001b[0m         show_progress_bar\u001b[38;5;241m=\u001b[39mshow_progress_bar,\n\u001b[0;32m    485\u001b[0m     )\n",
      "File \u001b[1;32m~\\anaconda3\\Lib\\site-packages\\optuna\\study\\_optimize.py:63\u001b[0m, in \u001b[0;36m_optimize\u001b[1;34m(study, func, n_trials, timeout, n_jobs, catch, callbacks, gc_after_trial, show_progress_bar)\u001b[0m\n\u001b[0;32m     61\u001b[0m \u001b[38;5;28;01mtry\u001b[39;00m:\n\u001b[0;32m     62\u001b[0m     \u001b[38;5;28;01mif\u001b[39;00m n_jobs \u001b[38;5;241m==\u001b[39m \u001b[38;5;241m1\u001b[39m:\n\u001b[1;32m---> 63\u001b[0m         _optimize_sequential(\n\u001b[0;32m     64\u001b[0m             study,\n\u001b[0;32m     65\u001b[0m             func,\n\u001b[0;32m     66\u001b[0m             n_trials,\n\u001b[0;32m     67\u001b[0m             timeout,\n\u001b[0;32m     68\u001b[0m             catch,\n\u001b[0;32m     69\u001b[0m             callbacks,\n\u001b[0;32m     70\u001b[0m             gc_after_trial,\n\u001b[0;32m     71\u001b[0m             reseed_sampler_rng\u001b[38;5;241m=\u001b[39m\u001b[38;5;28;01mFalse\u001b[39;00m,\n\u001b[0;32m     72\u001b[0m             time_start\u001b[38;5;241m=\u001b[39m\u001b[38;5;28;01mNone\u001b[39;00m,\n\u001b[0;32m     73\u001b[0m             progress_bar\u001b[38;5;241m=\u001b[39mprogress_bar,\n\u001b[0;32m     74\u001b[0m         )\n\u001b[0;32m     75\u001b[0m     \u001b[38;5;28;01melse\u001b[39;00m:\n\u001b[0;32m     76\u001b[0m         \u001b[38;5;28;01mif\u001b[39;00m n_jobs \u001b[38;5;241m==\u001b[39m \u001b[38;5;241m-\u001b[39m\u001b[38;5;241m1\u001b[39m:\n",
      "File \u001b[1;32m~\\anaconda3\\Lib\\site-packages\\optuna\\study\\_optimize.py:160\u001b[0m, in \u001b[0;36m_optimize_sequential\u001b[1;34m(study, func, n_trials, timeout, catch, callbacks, gc_after_trial, reseed_sampler_rng, time_start, progress_bar)\u001b[0m\n\u001b[0;32m    157\u001b[0m         \u001b[38;5;28;01mbreak\u001b[39;00m\n\u001b[0;32m    159\u001b[0m \u001b[38;5;28;01mtry\u001b[39;00m:\n\u001b[1;32m--> 160\u001b[0m     frozen_trial \u001b[38;5;241m=\u001b[39m _run_trial(study, func, catch)\n\u001b[0;32m    161\u001b[0m \u001b[38;5;28;01mfinally\u001b[39;00m:\n\u001b[0;32m    162\u001b[0m     \u001b[38;5;66;03m# The following line mitigates memory problems that can be occurred in some\u001b[39;00m\n\u001b[0;32m    163\u001b[0m     \u001b[38;5;66;03m# environments (e.g., services that use computing containers such as GitHub Actions).\u001b[39;00m\n\u001b[0;32m    164\u001b[0m     \u001b[38;5;66;03m# Please refer to the following PR for further details:\u001b[39;00m\n\u001b[0;32m    165\u001b[0m     \u001b[38;5;66;03m# https://github.com/optuna/optuna/pull/325.\u001b[39;00m\n\u001b[0;32m    166\u001b[0m     \u001b[38;5;28;01mif\u001b[39;00m gc_after_trial:\n",
      "File \u001b[1;32m~\\anaconda3\\Lib\\site-packages\\optuna\\study\\_optimize.py:248\u001b[0m, in \u001b[0;36m_run_trial\u001b[1;34m(study, func, catch)\u001b[0m\n\u001b[0;32m    241\u001b[0m         \u001b[38;5;28;01massert\u001b[39;00m \u001b[38;5;28;01mFalse\u001b[39;00m, \u001b[38;5;124m\"\u001b[39m\u001b[38;5;124mShould not reach.\u001b[39m\u001b[38;5;124m\"\u001b[39m\n\u001b[0;32m    243\u001b[0m \u001b[38;5;28;01mif\u001b[39;00m (\n\u001b[0;32m    244\u001b[0m     frozen_trial\u001b[38;5;241m.\u001b[39mstate \u001b[38;5;241m==\u001b[39m TrialState\u001b[38;5;241m.\u001b[39mFAIL\n\u001b[0;32m    245\u001b[0m     \u001b[38;5;129;01mand\u001b[39;00m func_err \u001b[38;5;129;01mis\u001b[39;00m \u001b[38;5;129;01mnot\u001b[39;00m \u001b[38;5;28;01mNone\u001b[39;00m\n\u001b[0;32m    246\u001b[0m     \u001b[38;5;129;01mand\u001b[39;00m \u001b[38;5;129;01mnot\u001b[39;00m \u001b[38;5;28misinstance\u001b[39m(func_err, catch)\n\u001b[0;32m    247\u001b[0m ):\n\u001b[1;32m--> 248\u001b[0m     \u001b[38;5;28;01mraise\u001b[39;00m func_err\n\u001b[0;32m    249\u001b[0m \u001b[38;5;28;01mreturn\u001b[39;00m frozen_trial\n",
      "File \u001b[1;32m~\\anaconda3\\Lib\\site-packages\\optuna\\study\\_optimize.py:197\u001b[0m, in \u001b[0;36m_run_trial\u001b[1;34m(study, func, catch)\u001b[0m\n\u001b[0;32m    195\u001b[0m \u001b[38;5;28;01mwith\u001b[39;00m get_heartbeat_thread(trial\u001b[38;5;241m.\u001b[39m_trial_id, study\u001b[38;5;241m.\u001b[39m_storage):\n\u001b[0;32m    196\u001b[0m     \u001b[38;5;28;01mtry\u001b[39;00m:\n\u001b[1;32m--> 197\u001b[0m         value_or_values \u001b[38;5;241m=\u001b[39m func(trial)\n\u001b[0;32m    198\u001b[0m     \u001b[38;5;28;01mexcept\u001b[39;00m exceptions\u001b[38;5;241m.\u001b[39mTrialPruned \u001b[38;5;28;01mas\u001b[39;00m e:\n\u001b[0;32m    199\u001b[0m         \u001b[38;5;66;03m# TODO(mamu): Handle multi-objective cases.\u001b[39;00m\n\u001b[0;32m    200\u001b[0m         state \u001b[38;5;241m=\u001b[39m TrialState\u001b[38;5;241m.\u001b[39mPRUNED\n",
      "Cell \u001b[1;32mIn[130], line 11\u001b[0m, in \u001b[0;36mobjective\u001b[1;34m(trial)\u001b[0m\n\u001b[0;32m      9\u001b[0m X_train_fold \u001b[38;5;241m=\u001b[39m target_enc\u001b[38;5;241m.\u001b[39mfit_transform(X_train_fold, y_train_fold)\n\u001b[0;32m     10\u001b[0m X_valid_fold \u001b[38;5;241m=\u001b[39m target_enc\u001b[38;5;241m.\u001b[39mtransform(X_valid_fold)\n\u001b[1;32m---> 11\u001b[0m X_test_enc \u001b[38;5;241m=\u001b[39m target_enc\u001b[38;5;241m.\u001b[39mtransform(df_test)\n\u001b[0;32m     13\u001b[0m \u001b[38;5;66;03m# Handle class imbalance with SMOTE\u001b[39;00m\n\u001b[0;32m     14\u001b[0m sm \u001b[38;5;241m=\u001b[39m SMOTE(random_state\u001b[38;5;241m=\u001b[39m\u001b[38;5;241m42\u001b[39m)\n",
      "File \u001b[1;32m~\\anaconda3\\Lib\\site-packages\\sklearn\\utils\\_set_output.py:295\u001b[0m, in \u001b[0;36m_wrap_method_output.<locals>.wrapped\u001b[1;34m(self, X, *args, **kwargs)\u001b[0m\n\u001b[0;32m    293\u001b[0m \u001b[38;5;129m@wraps\u001b[39m(f)\n\u001b[0;32m    294\u001b[0m \u001b[38;5;28;01mdef\u001b[39;00m \u001b[38;5;21mwrapped\u001b[39m(\u001b[38;5;28mself\u001b[39m, X, \u001b[38;5;241m*\u001b[39margs, \u001b[38;5;241m*\u001b[39m\u001b[38;5;241m*\u001b[39mkwargs):\n\u001b[1;32m--> 295\u001b[0m     data_to_wrap \u001b[38;5;241m=\u001b[39m f(\u001b[38;5;28mself\u001b[39m, X, \u001b[38;5;241m*\u001b[39margs, \u001b[38;5;241m*\u001b[39m\u001b[38;5;241m*\u001b[39mkwargs)\n\u001b[0;32m    296\u001b[0m     \u001b[38;5;28;01mif\u001b[39;00m \u001b[38;5;28misinstance\u001b[39m(data_to_wrap, \u001b[38;5;28mtuple\u001b[39m):\n\u001b[0;32m    297\u001b[0m         \u001b[38;5;66;03m# only wrap the first output for cross decomposition\u001b[39;00m\n\u001b[0;32m    298\u001b[0m         return_tuple \u001b[38;5;241m=\u001b[39m (\n\u001b[0;32m    299\u001b[0m             _wrap_data_with_container(method, data_to_wrap[\u001b[38;5;241m0\u001b[39m], X, \u001b[38;5;28mself\u001b[39m),\n\u001b[0;32m    300\u001b[0m             \u001b[38;5;241m*\u001b[39mdata_to_wrap[\u001b[38;5;241m1\u001b[39m:],\n\u001b[0;32m    301\u001b[0m         )\n",
      "File \u001b[1;32m~\\anaconda3\\Lib\\site-packages\\category_encoders\\utils.py:450\u001b[0m, in \u001b[0;36mSupervisedTransformerMixin.transform\u001b[1;34m(self, X, y, override_return_df)\u001b[0m\n\u001b[0;32m    448\u001b[0m \u001b[38;5;66;03m# first check the type\u001b[39;00m\n\u001b[0;32m    449\u001b[0m X, y \u001b[38;5;241m=\u001b[39m convert_inputs(X, y, deep\u001b[38;5;241m=\u001b[39m\u001b[38;5;28;01mTrue\u001b[39;00m)\n\u001b[1;32m--> 450\u001b[0m \u001b[38;5;28mself\u001b[39m\u001b[38;5;241m.\u001b[39m_check_transform_inputs(X)\n\u001b[0;32m    451\u001b[0m \u001b[38;5;28;01mif\u001b[39;00m y \u001b[38;5;129;01mis\u001b[39;00m \u001b[38;5;129;01mnot\u001b[39;00m \u001b[38;5;28;01mNone\u001b[39;00m \u001b[38;5;129;01mand\u001b[39;00m \u001b[38;5;28mself\u001b[39m\u001b[38;5;241m.\u001b[39mlab_encoder_ \u001b[38;5;129;01mis\u001b[39;00m \u001b[38;5;129;01mnot\u001b[39;00m \u001b[38;5;28;01mNone\u001b[39;00m:\n\u001b[0;32m    452\u001b[0m     y \u001b[38;5;241m=\u001b[39m \u001b[38;5;28mself\u001b[39m\u001b[38;5;241m.\u001b[39mlab_encoder_\u001b[38;5;241m.\u001b[39mtransform(y)\n",
      "File \u001b[1;32m~\\anaconda3\\Lib\\site-packages\\category_encoders\\utils.py:353\u001b[0m, in \u001b[0;36mBaseEncoder._check_transform_inputs\u001b[1;34m(self, X)\u001b[0m\n\u001b[0;32m    351\u001b[0m \u001b[38;5;66;03m# then make sure that it is the right size\u001b[39;00m\n\u001b[0;32m    352\u001b[0m \u001b[38;5;28;01mif\u001b[39;00m X\u001b[38;5;241m.\u001b[39mshape[\u001b[38;5;241m1\u001b[39m] \u001b[38;5;241m!=\u001b[39m \u001b[38;5;28mself\u001b[39m\u001b[38;5;241m.\u001b[39m_dim:\n\u001b[1;32m--> 353\u001b[0m     \u001b[38;5;28;01mraise\u001b[39;00m \u001b[38;5;167;01mValueError\u001b[39;00m(\u001b[38;5;124mf\u001b[39m\u001b[38;5;124m'\u001b[39m\u001b[38;5;124mUnexpected input dimension \u001b[39m\u001b[38;5;132;01m{\u001b[39;00mX\u001b[38;5;241m.\u001b[39mshape[\u001b[38;5;241m1\u001b[39m]\u001b[38;5;132;01m}\u001b[39;00m\u001b[38;5;124m, expected \u001b[39m\u001b[38;5;132;01m{\u001b[39;00m\u001b[38;5;28mself\u001b[39m\u001b[38;5;241m.\u001b[39m_dim\u001b[38;5;132;01m}\u001b[39;00m\u001b[38;5;124m'\u001b[39m)\n",
      "\u001b[1;31mValueError\u001b[0m: Unexpected input dimension 19, expected 18"
     ]
    }
   ],
   "source": [
    "# Optimize hyperparameters using Optuna\n",
    "study = optuna.create_study(direction='maximize', study_name='lgbm_classifier')\n",
    "study.optimize(objective, n_trials=50)"
   ]
  },
  {
   "cell_type": "code",
   "execution_count": null,
   "metadata": {},
   "outputs": [],
   "source": [
    "best_params = study.best_params\n",
    "print('Best Hyperparameters:')\n",
    "print(best_params)"
   ]
  },
  {
   "cell_type": "markdown",
   "metadata": {},
   "source": [
    "Best Hyperparameters:\n",
    "{'learning_rate': 0.07494066339794482, 'num_leaves': 36, 'max_depth': 4, 'min_child_samples': 80, 'subsample': 0.47232380658590173, 'colsample_bytree': 0.561711350752377, 'reg_alpha': 0.3026778531642185, 'reg_lambda': 0.7583892699023145}"
   ]
  },
  {
   "cell_type": "code",
   "execution_count": null,
   "metadata": {
    "id": "HcW7XGBDh5b9"
   },
   "outputs": [],
   "source": [
    "# Retrieve the best parameters\n",
    "best_params = study.best_params\n",
    "best_params['objective'] = 'binary'\n",
    "best_params['metric'] = 'auc'\n",
    "best_params['boosting_type'] = 'gbdt'\n",
    "best_params['random_state'] = 42\n",
    "best_params['verbosity'] = -1\n",
    "best_params['n_jobs'] = -1"
   ]
  },
  {
   "cell_type": "code",
   "execution_count": null,
   "metadata": {
    "colab": {
     "base_uri": "https://localhost:8080/"
    },
    "id": "KKZtdC7bh6lN",
    "outputId": "a7eb20fb-6694-4819-85f5-70c0326af02d"
   },
   "outputs": [],
   "source": [
    "print('Best Hyperparameters:')\n",
    "print(best_params)\n"
   ]
  },
  {
   "cell_type": "markdown",
   "metadata": {},
   "source": [
    "Best Hyperparameters:\n",
    "{'learning_rate': 0.07494066339794482, 'num_leaves': 36, 'max_depth': 4, 'min_child_samples': 80, 'subsample': 0.47232380658590173, 'colsample_bytree': 0.561711350752377, 'reg_alpha': 0.3026778531642185, 'reg_lambda': 0.7583892699023145, 'objective': 'binary', 'metric': 'auc', 'boosting_type': 'gbdt', 'random_state': 42, 'verbosity': -1, 'n_jobs': -1}"
   ]
  },
  {
   "cell_type": "code",
   "execution_count": null,
   "metadata": {
    "colab": {
     "base_uri": "https://localhost:8080/"
    },
    "id": "k0-nO_7_h77m",
    "outputId": "3cb834be-b7a3-4bf9-9c42-5823897255ac"
   },
   "outputs": [],
   "source": [
    "# Train the model with best hyperparameters and make predictions\n",
    "for fold, (train_index, valid_index) in enumerate(skf.split(X, y)):\n",
    "    print(f'Fold {fold + 1}')\n",
    "    X_train_fold, X_valid_fold = X.iloc[train_index], X.iloc[valid_index]\n",
    "    y_train_fold, y_valid_fold = y.iloc[train_index], y.iloc[valid_index]\n",
    "\n",
    "    # Target Encoding\n",
    "    X_train_fold = target_enc.fit_transform(X_train_fold, y_train_fold)\n",
    "    X_valid_fold = target_enc.transform(X_valid_fold)\n",
    "    X_test_enc = target_enc.transform(df_test)\n",
    "\n",
    "    # Handle class imbalance with SMOTE\n",
    "    sm = SMOTE(random_state=42)\n",
    "    X_resampled, y_resampled = sm.fit_resample(X_train_fold, y_train_fold)\n",
    "\n",
    "    #X_resampled, y_resampled = X_train_fold, y_train_fold\n",
    "    \n",
    "    # Scale numerical features\n",
    "    scaler = StandardScaler()\n",
    "    X_resampled[numerical_features] = scaler.fit_transform(X_resampled[numerical_features])\n",
    "    X_valid_fold[numerical_features] = scaler.transform(X_valid_fold[numerical_features])\n",
    "    X_test_enc[numerical_features] = scaler.transform(X_test_enc[numerical_features])\n",
    "\n",
    "    # Save the trained TargetEncoder object\n",
    "    with open('new_target_encoder.pkl', 'wb') as file:\n",
    "        pickle.dump(target_enc, file)\n",
    "\n",
    "    print(\"Target Encoder saved as 'new target_encoder.pkl'\")\n",
    "\n",
    "    # Save the scaler object\n",
    "    with open('new_scaler.pkl', 'wb') as file:\n",
    "        pickle.dump(scaler, file)\n",
    "\n",
    "    print(\"Scaler saved as 'new scaler.pkl'\")\n",
    "\n",
    "\n",
    "        \n",
    "\n",
    "    lgb_train = lgb.Dataset(X_resampled, y_resampled)\n",
    "    lgb_valid = lgb.Dataset(X_valid_fold, y_valid_fold, reference=lgb_train)\n",
    "\n",
    "    # Use early_stopping and log_evaluation as callbacks\n",
    "    early_stopping_callback = lgb.early_stopping(stopping_rounds=100, verbose=False)\n",
    "    log_eval_callback = lgb.log_evaluation(period=100)\n",
    "\n",
    "    callbacks = [early_stopping_callback, log_eval_callback]\n",
    "\n",
    "    # Include valid_names here as well\n",
    "    gbm = lgb.train(\n",
    "        best_params,\n",
    "        lgb_train,\n",
    "        num_boost_round=10000,\n",
    "        valid_sets=[lgb_train, lgb_valid],\n",
    "        valid_names=['training', 'valid_0'],\n",
    "        callbacks=callbacks\n",
    "    )\n",
    "\n",
    "    # Predict on validation set\n",
    "    y_valid_pred = gbm.predict(X_valid_fold, num_iteration=gbm.best_iteration)\n",
    "    oof_preds[valid_index] = y_valid_pred\n",
    "\n",
    "    # Predict on test set\n",
    "    test_fold_pred = gbm.predict(X_test_enc, num_iteration=gbm.best_iteration)\n",
    "    test_preds += test_fold_pred / skf.n_splits"
   ]
  },
  {
   "cell_type": "code",
   "execution_count": null,
   "metadata": {
    "colab": {
     "base_uri": "https://localhost:8080/"
    },
    "id": "tC9lrFVCh9H9",
    "outputId": "95b6ccae-9686-4332-b644-34e1044533f1"
   },
   "outputs": [],
   "source": [
    "# Evaluate the overall model performance\n",
    "roc_auc = roc_auc_score(y, oof_preds)\n",
    "print(f'Overall ROC-AUC Score: {roc_auc}')\n",
    "#Overall ROC-AUC Score: 0.9578482117185253"
   ]
  },
  {
   "cell_type": "code",
   "execution_count": null,
   "metadata": {},
   "outputs": [],
   "source": []
  },
  {
   "cell_type": "code",
   "execution_count": null,
   "metadata": {},
   "outputs": [],
   "source": [
    "# Prepare the submission file\n",
    "submission_df = pd.DataFrame({'id': df_test.index, 'loan_status': test_preds})\n",
    "submission_file_path = 'loan_approval_submission_Mona_New.csv'\n",
    "submission_df.to_csv(submission_file_path, index=False)"
   ]
  },
  {
   "cell_type": "code",
   "execution_count": null,
   "metadata": {},
   "outputs": [],
   "source": [
    "# Display the first few rows of the submission file\n",
    "print(submission_df.head())"
   ]
  },
  {
   "cell_type": "code",
   "execution_count": null,
   "metadata": {},
   "outputs": [],
   "source": [
    "joblib.dump(gbm,\"new_gbm_model.joblib\")"
   ]
  },
  {
   "cell_type": "code",
   "execution_count": null,
   "metadata": {},
   "outputs": [],
   "source": [
    "#pd.to_pickle(df_train,'./df_train.pkl') "
   ]
  },
  {
   "cell_type": "code",
   "execution_count": null,
   "metadata": {},
   "outputs": [],
   "source": []
  }
 ],
 "metadata": {
  "colab": {
   "provenance": []
  },
  "kernelspec": {
   "display_name": "Python 3 (ipykernel)",
   "language": "python",
   "name": "python3"
  },
  "language_info": {
   "codemirror_mode": {
    "name": "ipython",
    "version": 3
   },
   "file_extension": ".py",
   "mimetype": "text/x-python",
   "name": "python",
   "nbconvert_exporter": "python",
   "pygments_lexer": "ipython3",
   "version": "3.12.4"
  }
 },
 "nbformat": 4,
 "nbformat_minor": 4
}
